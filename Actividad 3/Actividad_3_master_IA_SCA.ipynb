{
  "nbformat": 4,
  "nbformat_minor": 0,
  "metadata": {
    "colab": {
      "name": "Actividad_3_master_IA_SCA.ipynb",
      "provenance": [],
      "collapsed_sections": []
    },
    "kernelspec": {
      "display_name": "Python 3 (system-wide)",
      "language": "python",
      "metadata": {
        "cocalc": {
          "description": "Python 3 programming language",
          "priority": 100,
          "url": "https://www.python.org/"
        }
      },
      "name": "python3"
    },
    "language_info": {
      "codemirror_mode": {
        "name": "ipython",
        "version": 3
      },
      "file_extension": ".py",
      "mimetype": "text/x-python",
      "name": "python",
      "nbconvert_exporter": "python",
      "pygments_lexer": "ipython3",
      "version": "3.8.5"
    }
  },
  "cells": [
    {
      "cell_type": "markdown",
      "metadata": {
        "collapsed": false,
        "id": "2yKYAEOUB70s"
      },
      "source": [
        "# Actividad 3: RNN y sus aplicaciones en las series temporales\n",
        "\n",
        "En esta actividad se va a aplicar el conocimiento adquirido sobre las RNN para entrenar modelos que sean capaces de predecir el comportamiento de las series temporales. Para ello, se usará un dataset de temperaturas para mediante la aplicación de RNN, predecir los valores futuros que tendrá la serie temporal que se tiene. Este trabajo se suele hacer mediante modelos ARIMA, pero en esta práctica se verá cómo el modelado mediante RNN es una opción muy buena en estos casos de series temporales."
      ]
    },
    {
      "cell_type": "markdown",
      "metadata": {
        "collapsed": false,
        "id": "IW24cRGrCrXZ"
      },
      "source": [
        "**1. Descargar el dataset y almacenarlo**\n",
        "\n",
        "En primer lugar hay que importar tensorflow."
      ]
    },
    {
      "cell_type": "code",
      "metadata": {
        "colab": {
          "base_uri": "https://localhost:8080/"
        },
        "id": "loO19CfCYC2V",
        "outputId": "5d44750a-db25-4510-82e7-54853c761ec8"
      },
      "source": [
        "import tensorflow as tf\n",
        "print(tf.__version__)"
      ],
      "execution_count": 1,
      "outputs": [
        {
          "output_type": "stream",
          "name": "stdout",
          "text": [
            "2.7.0\n"
          ]
        }
      ]
    },
    {
      "cell_type": "markdown",
      "metadata": {
        "collapsed": false,
        "id": "0ZTs4Cd0C49G"
      },
      "source": [
        "El siguiente paso es importar las bibliotecas numpy y matplotlib. Además, se define el método **plot_series** que se utilizará para hacer las gráficas de las series temporales."
      ]
    },
    {
      "cell_type": "code",
      "metadata": {
        "id": "gLNhTOGEYDbQ"
      },
      "source": [
        "import numpy as np\n",
        "import matplotlib.pyplot as plt\n",
        "def plot_series(time, series, format=\"-\", start=0, end=None):\n",
        "    plt.plot(time[start:end], series[start:end], format)\n",
        "    plt.xlabel(\"Time\")\n",
        "    plt.ylabel(\"Value\")\n",
        "    plt.grid(True)"
      ],
      "execution_count": 2,
      "outputs": []
    },
    {
      "cell_type": "markdown",
      "metadata": {
        "collapsed": false,
        "id": "8jbJP279DJha"
      },
      "source": [
        "A continuación se descarga el dataset de las temperaturas mínimas diarias."
      ]
    },
    {
      "cell_type": "code",
      "metadata": {
        "id": "AsXBJEeqYFbn",
        "colab": {
          "base_uri": "https://localhost:8080/"
        },
        "outputId": "41dd339d-0f8a-4684-cff5-55f85510127b"
      },
      "source": [
        "!wget --no-check-certificate \\\n",
        "    https://raw.githubusercontent.com/jbrownlee/Datasets/master/daily-min-temperatures.csv \\\n",
        "    -O /tmp/daily-min-temperatures.csv"
      ],
      "execution_count": 3,
      "outputs": [
        {
          "output_type": "stream",
          "name": "stdout",
          "text": [
            "--2021-11-28 12:38:01--  https://raw.githubusercontent.com/jbrownlee/Datasets/master/daily-min-temperatures.csv\n",
            "Resolving raw.githubusercontent.com (raw.githubusercontent.com)... 185.199.110.133, 185.199.109.133, 185.199.111.133, ...\n",
            "Connecting to raw.githubusercontent.com (raw.githubusercontent.com)|185.199.110.133|:443... connected.\n",
            "HTTP request sent, awaiting response... 200 OK\n",
            "Length: 67921 (66K) [text/plain]\n",
            "Saving to: ‘/tmp/daily-min-temperatures.csv’\n",
            "\n",
            "\r          /tmp/dail   0%[                    ]       0  --.-KB/s               \r/tmp/daily-min-temp 100%[===================>]  66.33K  --.-KB/s    in 0.007s  \n",
            "\n",
            "2021-11-28 12:38:01 (8.67 MB/s) - ‘/tmp/daily-min-temperatures.csv’ saved [67921/67921]\n",
            "\n"
          ]
        }
      ]
    },
    {
      "cell_type": "markdown",
      "metadata": {
        "collapsed": false,
        "id": "jufo30y2DOIS"
      },
      "source": [
        "En este paso, se utilizará la biblioteca csv de Python para guardar y poder leer el dataset de temperaturas mínimas diarias que ha sido descargado en el paso anterior. Además, se construye la variable **series** que será donde se guarde la serie temporal. Por último, siempre que se trate con una serie temporal, es una buena práctica hacer un gráfico para poder verla y tener una idea de cómo es."
      ]
    },
    {
      "cell_type": "code",
      "metadata": {
        "id": "no85DGrbYHUM",
        "colab": {
          "base_uri": "https://localhost:8080/",
          "height": 388
        },
        "outputId": "c840dd19-9c98-4046-af84-43334c27aaed"
      },
      "source": [
        "\n",
        "import csv\n",
        "time_step = []\n",
        "temps = []\n",
        "\n",
        "with open('/tmp/daily-min-temperatures.csv') as csvfile:\n",
        "  reader = csv.reader(csvfile, delimiter=',')\n",
        "  next(reader)\n",
        "  step=0\n",
        "  for row in reader:\n",
        "    temps.append(float(row[1]))\n",
        "    time_step.append(step)\n",
        "    step = step + 1\n",
        "\n",
        "series = np.array(temps)\n",
        "time = np.array(time_step)\n",
        "plt.figure(figsize=(10, 6))\n",
        "plot_series(time, series)"
      ],
      "execution_count": 4,
      "outputs": [
        {
          "output_type": "display_data",
          "data": {
            "image/png": "[encoded data removed]",
            "text/plain": [
              "<Figure size 720x432 with 1 Axes>"
            ]
          },
          "metadata": {
            "needs_background": "light"
          }
        }
      ]
    },
    {
      "cell_type": "markdown",
      "metadata": {
        "collapsed": false,
        "id": "kyejfTbWL5Km"
      },
      "source": [
        "# 2. Creación de las variables necesarias para el diseño de la red neuronal"
      ]
    },
    {
      "cell_type": "markdown",
      "metadata": {
        "collapsed": false,
        "id": "CtvcOIk1Dxod"
      },
      "source": [
        "Una técnica muy común cuando se trata con series temporales es utilizar una ventana temporal que se vaya desplazando sobre la serie temporal para reducir su análisis a lo que ocurre en ese ventana de forma local, para a continuación realizar el modelado global.\n",
        "\n",
        "**Ejercicio 1 (0.4 puntos)**: Crear las variables de entrenamiento y validación y hacer la partición de las mismas. Las variables que hay que crear son:\n",
        "\n",
        "*   time_train\n",
        "*   x_train\n",
        "*   time_valid\n",
        "*   x_valid\n",
        "\n",
        "\n",
        "\n"
      ]
    },
    {
      "cell_type": "code",
      "metadata": {
        "id": "IjiQ6hCWYI47",
        "colab": {
          "base_uri": "https://localhost:8080/",
          "height": 388
        },
        "outputId": "3d1c16ac-6334-4126-b53e-763cafbdc8d8"
      },
      "source": [
        "## variables para la técnica de la ventana temporal\n",
        "split_time = 2500\n",
        "window_size = 30\n",
        "batch_size = 32\n",
        "shuffle_buffer_size = 1000\n",
        "\n",
        "## Split del dataset en entrenamiento y validación\n",
        "\n",
        "## tu código para la creación de las 4 variables del ejercicio 1 aquí\n",
        "\n",
        "time_train = time[:split_time]\n",
        "x_train = series[:split_time]\n",
        "time_valid = time[split_time:]\n",
        "x_valid = series[split_time:]\n",
        "\n",
        "plt.figure(figsize=(10,6))\n",
        "plot_series(time_train, x_train, 'b')\n",
        "plot_series(time_valid, x_valid, 'r')"
      ],
      "execution_count": 5,
      "outputs": [
        {
          "output_type": "display_data",
          "data": {
            "image/png": "[encoded data removed]",
            "text/plain": [
              "<Figure size 720x432 with 1 Axes>"
            ]
          },
          "metadata": {
            "needs_background": "light"
          }
        }
      ]
    },
    {
      "cell_type": "markdown",
      "metadata": {
        "collapsed": false,
        "id": "qk5l4wEPFmDM"
      },
      "source": [
        "2. Creación del método **windowed_datset** para poder utilizarlo en el modelo. Las entradas por parámetros del método son:\n",
        "\n",
        "*   series\n",
        "*   window_size\n",
        "*   batch_size\n",
        "*   shuffle_buffer\n",
        "\n",
        "El resto de elementos que se usan para construir la función ventana temporal para explorar el dataset, son métodos de Python para tratar con series temporales.\n",
        "\n",
        "\n"
      ]
    },
    {
      "cell_type": "markdown",
      "metadata": {
        "collapsed": false,
        "id": "AxzoP0UXL_jP"
      },
      "source": [
        "# 3. Diseño de la función para predecir los siguientes valores de la serie temporal usando la técnica de la ventana temporal"
      ]
    },
    {
      "cell_type": "code",
      "metadata": {
        "id": "40vSdZ7pYK6S"
      },
      "source": [
        "def windowed_dataset(series, window_size, batch_size, shuffle_buffer):\n",
        "    series = tf.expand_dims(series, axis=-1)\n",
        "    ds = tf.data.Dataset.from_tensor_slices(series)\n",
        "    ds = ds.window(window_size + 1, shift=1, drop_remainder=True)\n",
        "    ds = ds.flat_map(lambda w: w.batch(window_size + 1))\n",
        "    ds = ds.shuffle(shuffle_buffer)\n",
        "    ds = ds.map(lambda w: (w[:-1], w[1:]))\n",
        "    return ds.batch(batch_size).prefetch(1)"
      ],
      "execution_count": 6,
      "outputs": []
    },
    {
      "cell_type": "markdown",
      "metadata": {
        "collapsed": false,
        "id": "TpTqdDfYGf_W"
      },
      "source": [
        "A continuación, y usando como modelo el método **windowed_dataset** se procederá a adaptar el método **model_forecast** que se usará para predecir los siguientes valores de la serie temporal utilizando la técnica de la ventana temporal.\n",
        "\n",
        "**Ejercicio 2 (1.6 puntos)**: completar el método model_forecast creando los elementos necesarios dentro del método:\n",
        "\n",
        "1.   Crear la variable **ds** y darle el valor resultante del método **from_tensor_slices** pasando por parametro **series** **(0.4 puntos)**\n",
        "2.   Actualizar la ventana (**window**) de la variable **ds** (nota: en este caso el tamaño es el mismo de la ventana, no es necesario que sea window_size+1) **(0.4 puntos)**\n",
        "3.   Crear el **flat_map** de la variable, teniendo en cuenta que el tamaño es **window_size** **(0.4 puntos)**\n",
        "4.   Añadir la siguiente linea de código: ds = ds.batch(32).prefetch(1)\n",
        "5.   Crear la variable **forecast** en la que se usará el método **predict** **(0.4 puntos)**\n",
        "6.   Por último, se devolverá la variable forecast.\n",
        "\n",
        "\n"
      ]
    },
    {
      "cell_type": "code",
      "metadata": {
        "id": "1eYlrylwYNqa"
      },
      "source": [
        "def model_forecast(model, series, window_size):\n",
        "## tu código para el método model_forecast del ejercicio 2 aquí\n",
        "  # Se crea dataset de la variable series\n",
        "  ds = tf.data.Dataset.from_tensor_slices(series)\n",
        "  # Indicamos el tamaño de ventana con el parámetro de entrada windows_size\n",
        "  ds = ds.window(window_size, shift=1, drop_remainder=True)\n",
        "  # Utilizamos flat_map para asegurar orden de datos\n",
        "  ds = ds.flat_map(lambda w: w.batch(window_size))\n",
        "  # Se crean lotes de 32 elementos\n",
        "  ds = ds.batch(32).prefetch(1)\n",
        "  # Aplicamos la predicción\n",
        "  forecast = model.predict(ds)\n",
        "  # devolvemos resultado\n",
        "  return forecast"
      ],
      "execution_count": 7,
      "outputs": []
    },
    {
      "cell_type": "markdown",
      "metadata": {
        "collapsed": false,
        "id": "SY2SZ_GsJBx4"
      },
      "source": [
        "A continuación, se limpia la sesión de keras, y se inicializan las variables necesarias para poder diseñar el modelo de series temporales a entrenar usando RNN."
      ]
    },
    {
      "cell_type": "code",
      "metadata": {
        "id": "DAUtfBB9JR2p"
      },
      "source": [
        "tf.keras.backend.clear_session()\n",
        "tf.random.set_seed(51)\n",
        "np.random.seed(51)\n",
        "window_size = 64\n",
        "batch_size = 256"
      ],
      "execution_count": 8,
      "outputs": []
    },
    {
      "cell_type": "markdown",
      "metadata": {
        "collapsed": false,
        "id": "4mOXrfFVMKRA"
      },
      "source": [
        "# 4. Diseño de la red neuronal"
      ]
    },
    {
      "cell_type": "markdown",
      "metadata": {
        "collapsed": false,
        "id": "T6YG9YclJk9n"
      },
      "source": [
        "**Ejercicio 3.1 (0.5 puntos)**: Hay que crear la variable **train_set** dandole el valor que se reciba del método **windowed_datset**, los parametros que debe recibir este método son: **x_train, window_size, batch_size, shuffle_buffer_size**"
      ]
    },
    {
      "cell_type": "code",
      "metadata": {
        "id": "iqgS7tu5JUc5"
      },
      "source": [
        "## tu código aquí para el ejercicio 3\n",
        "train_set = windowed_dataset(x_train, window_size, batch_size, shuffle_buffer_size)"
      ],
      "execution_count": 9,
      "outputs": []
    },
    {
      "cell_type": "markdown",
      "metadata": {
        "collapsed": false,
        "id": "SgrrsFHxKVWO"
      },
      "source": [
        "**Ejercicio 3.2 (4 puntos)**: Se debe construir la red neuronal de aprendizaje profunda basada para modelar la serie temporal de las temperaturas minimas diarias. Esta red neuronal debera contar con las siguientes capas ocultas:\n",
        "\n",
        "1.   Una capa de convolución en una dimensión que tenga 32 filtros, una tamaño del kernel de 5, un stride de 1, padding \"causal\", la función de activación debe ser relu y el input shape debe ser [None, 1] \n",
        "2.   Una capa LSTM con 64 neuronas y retorno de secuencias \n",
        "3.   Una capa LSTM con 64 neuronas y retorno de secuencias \n",
        "4.   Una capa densa con 30 neuronas\n",
        "5.   Una capa densa con 10 neuronas\n",
        "6.   Una capa densa con 1 neuronas\n",
        "7.   Por último, se añade la siguiente capa: tf.keras.layers.Lambda(lambda x: x * 400)\n",
        "\n",
        "\n"
      ]
    },
    {
      "cell_type": "code",
      "metadata": {
        "id": "yswRAtQ6JWvd"
      },
      "source": [
        "## tu código para la red neuronal del ejercicio 4 aquí\n",
        "\n",
        "from tensorflow.keras import layers\n",
        "\n",
        "model = tf.keras.models.Sequential([\n",
        "  layers.Conv1D(filters = 32, kernel_size = 5, strides = 1, padding='causal', activation='relu', input_shape=[None, 1]),\n",
        "  layers.LSTM(64, return_sequences=True),\n",
        "  layers.LSTM(64, return_sequences=True),\n",
        "  layers.Dense(30, activation='relu'),\n",
        "  layers.Dense(10, activation='relu'),\n",
        "  layers.Dense(1),\n",
        "  layers.Lambda(lambda x: x * 400)\n",
        "])\n",
        "\n"
      ],
      "execution_count": 10,
      "outputs": []
    },
    {
      "cell_type": "markdown",
      "metadata": {
        "collapsed": false,
        "id": "W3VhCNbVLyPj"
      },
      "source": [
        "# 5. Entrenamiento de la red neuronal"
      ]
    },
    {
      "cell_type": "markdown",
      "metadata": {
        "collapsed": false,
        "id": "IvaUY4TmMUpa"
      },
      "source": [
        "**Ejercicio 4 (0.5 puntos)**: Se va a diseñar un método callbacks para el learning rate que será guardado en la variable **lr_schedule**, este método deberá usar el método **LearningRateScheduler** de Python y será una función **lambda** que le de el valor a epoch de 1e-8 * 10**(epoch / 20) **texto en negrita** "
      ]
    },
    {
      "cell_type": "code",
      "metadata": {
        "id": "s8YmUm3WJZdm"
      },
      "source": [
        "## tu código para crear la variable lr_schedule aquí\n",
        "\n",
        "lr_schedule = tf.keras.callbacks.LearningRateScheduler(lambda epoch: 1e-8 * 10**(epoch / 20), verbose=1)"
      ],
      "execution_count": 11,
      "outputs": []
    },
    {
      "cell_type": "markdown",
      "metadata": {
        "collapsed": false,
        "id": "g6xI_87qNgzg"
      },
      "source": [
        "**Ejercicio 5 (1.5 puntos):** Compilar la red neuronal con los siguientes parametros:\n",
        "\n",
        "*   loss: método Huber de keras\n",
        "*   El optimizador debe ser el SGD con learning rate 1e-8 y momentum 0.9\n",
        "*   La métrica a visualizar es el error absoluto medio (medium absolute error en ingles)\n",
        "\n"
      ]
    },
    {
      "cell_type": "code",
      "metadata": {
        "id": "vYCGYDj3OI97",
        "colab": {
          "base_uri": "https://localhost:8080/"
        },
        "outputId": "e08d3819-c316-4d02-c0d1-50c745899f5c"
      },
      "source": [
        "## tu código para compilar la red neuronal para el ejercicio 5 aquí\n",
        "\n",
        "optimizer = tf.keras.optimizers.SGD(lr=1e-8, momentum=0.9)\n",
        "model.compile(loss=tf.keras.losses.Huber(), optimizer=optimizer, metrics=[\"mae\"])"
      ],
      "execution_count": 12,
      "outputs": [
        {
          "output_type": "stream",
          "name": "stderr",
          "text": [
            "/usr/local/lib/python3.7/dist-packages/keras/optimizer_v2/gradient_descent.py:102: UserWarning: The `lr` argument is deprecated, use `learning_rate` instead.\n",
            "  super(SGD, self).__init__(name, **kwargs)\n"
          ]
        }
      ]
    },
    {
      "cell_type": "markdown",
      "metadata": {
        "collapsed": false,
        "id": "kYcl-m5_ORq0"
      },
      "source": [
        "Para terminar se entrena el modelo previamente diseñado y compilado en los pasos anteriores."
      ]
    },
    {
      "cell_type": "code",
      "metadata": {
        "id": "P8788Rd6YXDm",
        "colab": {
          "base_uri": "https://localhost:8080/"
        },
        "outputId": "ab5eb65f-e327-4ce6-9884-796dbd43cdd0"
      },
      "source": [
        "history = model.fit(train_set, epochs=100, callbacks=[lr_schedule])"
      ],
      "execution_count": 13,
      "outputs": [
        {
          "output_type": "stream",
          "name": "stdout",
          "text": [
            "\n",
            "Epoch 00001: LearningRateScheduler setting learning rate to 1e-08.\n",
            "Epoch 1/100\n",
            "10/10 [==============================] - 8s 359ms/step - loss: 31.1571 - mae: 31.6550 - lr: 1.0000e-08\n",
            "\n",
            "Epoch 00002: LearningRateScheduler setting learning rate to 1.1220184543019634e-08.\n",
            "Epoch 2/100\n",
            "10/10 [==============================] - 4s 330ms/step - loss: 30.5778 - mae: 31.0756 - lr: 1.1220e-08\n",
            "\n",
            "Epoch 00003: LearningRateScheduler setting learning rate to 1.2589254117941673e-08.\n",
            "Epoch 3/100\n",
            "10/10 [==============================] - 4s 322ms/step - loss: 29.6825 - mae: 30.1801 - lr: 1.2589e-08\n",
            "\n",
            "Epoch 00004: LearningRateScheduler setting learning rate to 1.4125375446227544e-08.\n",
            "Epoch 4/100\n",
            "10/10 [==============================] - 4s 324ms/step - loss: 28.5613 - mae: 29.0586 - lr: 1.4125e-08\n",
            "\n",
            "Epoch 00005: LearningRateScheduler setting learning rate to 1.5848931924611136e-08.\n",
            "Epoch 5/100\n",
            "10/10 [==============================] - 4s 320ms/step - loss: 27.1974 - mae: 27.6945 - lr: 1.5849e-08\n",
            "\n",
            "Epoch 00006: LearningRateScheduler setting learning rate to 1.7782794100389228e-08.\n",
            "Epoch 6/100\n",
            "10/10 [==============================] - 4s 324ms/step - loss: 25.5017 - mae: 25.9986 - lr: 1.7783e-08\n",
            "\n",
            "Epoch 00007: LearningRateScheduler setting learning rate to 1.9952623149688796e-08.\n",
            "Epoch 7/100\n",
            "10/10 [==============================] - 4s 322ms/step - loss: 23.3464 - mae: 23.8429 - lr: 1.9953e-08\n",
            "\n",
            "Epoch 00008: LearningRateScheduler setting learning rate to 2.2387211385683395e-08.\n",
            "Epoch 8/100\n",
            "10/10 [==============================] - 4s 324ms/step - loss: 20.6148 - mae: 21.1108 - lr: 2.2387e-08\n",
            "\n",
            "Epoch 00009: LearningRateScheduler setting learning rate to 2.51188643150958e-08.\n",
            "Epoch 9/100\n",
            "10/10 [==============================] - 4s 329ms/step - loss: 17.3142 - mae: 17.8091 - lr: 2.5119e-08\n",
            "\n",
            "Epoch 00010: LearningRateScheduler setting learning rate to 2.8183829312644537e-08.\n",
            "Epoch 10/100\n",
            "10/10 [==============================] - 4s 324ms/step - loss: 13.6448 - mae: 14.1371 - lr: 2.8184e-08\n",
            "\n",
            "Epoch 00011: LearningRateScheduler setting learning rate to 3.16227766016838e-08.\n",
            "Epoch 11/100\n",
            "10/10 [==============================] - 4s 325ms/step - loss: 10.1273 - mae: 10.6152 - lr: 3.1623e-08\n",
            "\n",
            "Epoch 00012: LearningRateScheduler setting learning rate to 3.548133892335755e-08.\n",
            "Epoch 12/100\n",
            "10/10 [==============================] - 4s 323ms/step - loss: 7.6175 - mae: 8.1025 - lr: 3.5481e-08\n",
            "\n",
            "Epoch 00013: LearningRateScheduler setting learning rate to 3.981071705534972e-08.\n",
            "Epoch 13/100\n",
            "10/10 [==============================] - 4s 322ms/step - loss: 6.2869 - mae: 6.7711 - lr: 3.9811e-08\n",
            "\n",
            "Epoch 00014: LearningRateScheduler setting learning rate to 4.466835921509632e-08.\n",
            "Epoch 14/100\n",
            "10/10 [==============================] - 4s 328ms/step - loss: 5.7015 - mae: 6.1856 - lr: 4.4668e-08\n",
            "\n",
            "Epoch 00015: LearningRateScheduler setting learning rate to 5.011872336272722e-08.\n",
            "Epoch 15/100\n",
            "10/10 [==============================] - 4s 326ms/step - loss: 5.3344 - mae: 5.8166 - lr: 5.0119e-08\n",
            "\n",
            "Epoch 00016: LearningRateScheduler setting learning rate to 5.623413251903491e-08.\n",
            "Epoch 16/100\n",
            "10/10 [==============================] - 4s 325ms/step - loss: 4.9409 - mae: 5.4206 - lr: 5.6234e-08\n",
            "\n",
            "Epoch 00017: LearningRateScheduler setting learning rate to 6.309573444801934e-08.\n",
            "Epoch 17/100\n",
            "10/10 [==============================] - 4s 329ms/step - loss: 4.5578 - mae: 5.0338 - lr: 6.3096e-08\n",
            "\n",
            "Epoch 00018: LearningRateScheduler setting learning rate to 7.079457843841378e-08.\n",
            "Epoch 18/100\n",
            "10/10 [==============================] - 4s 324ms/step - loss: 4.2340 - mae: 4.7085 - lr: 7.0795e-08\n",
            "\n",
            "Epoch 00019: LearningRateScheduler setting learning rate to 7.943282347242815e-08.\n",
            "Epoch 19/100\n",
            "10/10 [==============================] - 4s 327ms/step - loss: 3.9611 - mae: 4.4360 - lr: 7.9433e-08\n",
            "\n",
            "Epoch 00020: LearningRateScheduler setting learning rate to 8.912509381337454e-08.\n",
            "Epoch 20/100\n",
            "10/10 [==============================] - 4s 324ms/step - loss: 3.7448 - mae: 4.2177 - lr: 8.9125e-08\n",
            "\n",
            "Epoch 00021: LearningRateScheduler setting learning rate to 1e-07.\n",
            "Epoch 21/100\n",
            "10/10 [==============================] - 4s 324ms/step - loss: 3.5855 - mae: 4.0566 - lr: 1.0000e-07\n",
            "\n",
            "Epoch 00022: LearningRateScheduler setting learning rate to 1.1220184543019637e-07.\n",
            "Epoch 22/100\n",
            "10/10 [==============================] - 4s 325ms/step - loss: 3.4641 - mae: 3.9344 - lr: 1.1220e-07\n",
            "\n",
            "Epoch 00023: LearningRateScheduler setting learning rate to 1.2589254117941675e-07.\n",
            "Epoch 23/100\n",
            "10/10 [==============================] - 4s 324ms/step - loss: 3.3711 - mae: 3.8414 - lr: 1.2589e-07\n",
            "\n",
            "Epoch 00024: LearningRateScheduler setting learning rate to 1.4125375446227541e-07.\n",
            "Epoch 24/100\n",
            "10/10 [==============================] - 4s 324ms/step - loss: 3.2948 - mae: 3.7645 - lr: 1.4125e-07\n",
            "\n",
            "Epoch 00025: LearningRateScheduler setting learning rate to 1.5848931924611133e-07.\n",
            "Epoch 25/100\n",
            "10/10 [==============================] - 4s 323ms/step - loss: 3.2288 - mae: 3.6978 - lr: 1.5849e-07\n",
            "\n",
            "Epoch 00026: LearningRateScheduler setting learning rate to 1.778279410038923e-07.\n",
            "Epoch 26/100\n",
            "10/10 [==============================] - 4s 324ms/step - loss: 3.1662 - mae: 3.6346 - lr: 1.7783e-07\n",
            "\n",
            "Epoch 00027: LearningRateScheduler setting learning rate to 1.9952623149688798e-07.\n",
            "Epoch 27/100\n",
            "10/10 [==============================] - 4s 325ms/step - loss: 3.1014 - mae: 3.5693 - lr: 1.9953e-07\n",
            "\n",
            "Epoch 00028: LearningRateScheduler setting learning rate to 2.23872113856834e-07.\n",
            "Epoch 28/100\n",
            "10/10 [==============================] - 4s 325ms/step - loss: 3.0380 - mae: 3.5053 - lr: 2.2387e-07\n",
            "\n",
            "Epoch 00029: LearningRateScheduler setting learning rate to 2.5118864315095796e-07.\n",
            "Epoch 29/100\n",
            "10/10 [==============================] - 4s 326ms/step - loss: 2.9716 - mae: 3.4379 - lr: 2.5119e-07\n",
            "\n",
            "Epoch 00030: LearningRateScheduler setting learning rate to 2.8183829312644533e-07.\n",
            "Epoch 30/100\n",
            "10/10 [==============================] - 4s 329ms/step - loss: 2.9063 - mae: 3.3712 - lr: 2.8184e-07\n",
            "\n",
            "Epoch 00031: LearningRateScheduler setting learning rate to 3.162277660168379e-07.\n",
            "Epoch 31/100\n",
            "10/10 [==============================] - 4s 327ms/step - loss: 2.8452 - mae: 3.3098 - lr: 3.1623e-07\n",
            "\n",
            "Epoch 00032: LearningRateScheduler setting learning rate to 3.5481338923357547e-07.\n",
            "Epoch 32/100\n",
            "10/10 [==============================] - 4s 326ms/step - loss: 2.7842 - mae: 3.2479 - lr: 3.5481e-07\n",
            "\n",
            "Epoch 00033: LearningRateScheduler setting learning rate to 3.9810717055349735e-07.\n",
            "Epoch 33/100\n",
            "10/10 [==============================] - 4s 327ms/step - loss: 2.7256 - mae: 3.1891 - lr: 3.9811e-07\n",
            "\n",
            "Epoch 00034: LearningRateScheduler setting learning rate to 4.46683592150963e-07.\n",
            "Epoch 34/100\n",
            "10/10 [==============================] - 4s 324ms/step - loss: 2.6740 - mae: 3.1379 - lr: 4.4668e-07\n",
            "\n",
            "Epoch 00035: LearningRateScheduler setting learning rate to 5.011872336272723e-07.\n",
            "Epoch 35/100\n",
            "10/10 [==============================] - 4s 323ms/step - loss: 2.6212 - mae: 3.0848 - lr: 5.0119e-07\n",
            "\n",
            "Epoch 00036: LearningRateScheduler setting learning rate to 5.623413251903491e-07.\n",
            "Epoch 36/100\n",
            "10/10 [==============================] - 4s 324ms/step - loss: 2.5728 - mae: 3.0357 - lr: 5.6234e-07\n",
            "\n",
            "Epoch 00037: LearningRateScheduler setting learning rate to 6.309573444801933e-07.\n",
            "Epoch 37/100\n",
            "10/10 [==============================] - 4s 328ms/step - loss: 2.5254 - mae: 2.9877 - lr: 6.3096e-07\n",
            "\n",
            "Epoch 00038: LearningRateScheduler setting learning rate to 7.079457843841381e-07.\n",
            "Epoch 38/100\n",
            "10/10 [==============================] - 4s 325ms/step - loss: 2.4800 - mae: 2.9415 - lr: 7.0795e-07\n",
            "\n",
            "Epoch 00039: LearningRateScheduler setting learning rate to 7.943282347242815e-07.\n",
            "Epoch 39/100\n",
            "10/10 [==============================] - 4s 326ms/step - loss: 2.4355 - mae: 2.8968 - lr: 7.9433e-07\n",
            "\n",
            "Epoch 00040: LearningRateScheduler setting learning rate to 8.912509381337455e-07.\n",
            "Epoch 40/100\n",
            "10/10 [==============================] - 4s 331ms/step - loss: 2.3933 - mae: 2.8541 - lr: 8.9125e-07\n",
            "\n",
            "Epoch 00041: LearningRateScheduler setting learning rate to 1e-06.\n",
            "Epoch 41/100\n",
            "10/10 [==============================] - 4s 324ms/step - loss: 2.3523 - mae: 2.8124 - lr: 1.0000e-06\n",
            "\n",
            "Epoch 00042: LearningRateScheduler setting learning rate to 1.122018454301963e-06.\n",
            "Epoch 42/100\n",
            "10/10 [==============================] - 4s 326ms/step - loss: 2.3124 - mae: 2.7718 - lr: 1.1220e-06\n",
            "\n",
            "Epoch 00043: LearningRateScheduler setting learning rate to 1.2589254117941676e-06.\n",
            "Epoch 43/100\n",
            "10/10 [==============================] - 4s 324ms/step - loss: 2.2730 - mae: 2.7315 - lr: 1.2589e-06\n",
            "\n",
            "Epoch 00044: LearningRateScheduler setting learning rate to 1.412537544622754e-06.\n",
            "Epoch 44/100\n",
            "10/10 [==============================] - 4s 326ms/step - loss: 2.2338 - mae: 2.6913 - lr: 1.4125e-06\n",
            "\n",
            "Epoch 00045: LearningRateScheduler setting learning rate to 1.5848931924611143e-06.\n",
            "Epoch 45/100\n",
            "10/10 [==============================] - 4s 326ms/step - loss: 2.1954 - mae: 2.6523 - lr: 1.5849e-06\n",
            "\n",
            "Epoch 00046: LearningRateScheduler setting learning rate to 1.778279410038923e-06.\n",
            "Epoch 46/100\n",
            "10/10 [==============================] - 4s 325ms/step - loss: 2.1622 - mae: 2.6190 - lr: 1.7783e-06\n",
            "\n",
            "Epoch 00047: LearningRateScheduler setting learning rate to 1.9952623149688787e-06.\n",
            "Epoch 47/100\n",
            "10/10 [==============================] - 4s 325ms/step - loss: 2.1313 - mae: 2.5877 - lr: 1.9953e-06\n",
            "\n",
            "Epoch 00048: LearningRateScheduler setting learning rate to 2.23872113856834e-06.\n",
            "Epoch 48/100\n",
            "10/10 [==============================] - 4s 322ms/step - loss: 2.1047 - mae: 2.5607 - lr: 2.2387e-06\n",
            "\n",
            "Epoch 00049: LearningRateScheduler setting learning rate to 2.5118864315095797e-06.\n",
            "Epoch 49/100\n",
            "10/10 [==============================] - 4s 325ms/step - loss: 2.0740 - mae: 2.5300 - lr: 2.5119e-06\n",
            "\n",
            "Epoch 00050: LearningRateScheduler setting learning rate to 2.8183829312644547e-06.\n",
            "Epoch 50/100\n",
            "10/10 [==============================] - 4s 326ms/step - loss: 2.0481 - mae: 2.5040 - lr: 2.8184e-06\n",
            "\n",
            "Epoch 00051: LearningRateScheduler setting learning rate to 3.1622776601683796e-06.\n",
            "Epoch 51/100\n",
            "10/10 [==============================] - 4s 328ms/step - loss: 2.0263 - mae: 2.4818 - lr: 3.1623e-06\n",
            "\n",
            "Epoch 00052: LearningRateScheduler setting learning rate to 3.5481338923357534e-06.\n",
            "Epoch 52/100\n",
            "10/10 [==============================] - 4s 324ms/step - loss: 2.0048 - mae: 2.4598 - lr: 3.5481e-06\n",
            "\n",
            "Epoch 00053: LearningRateScheduler setting learning rate to 3.981071705534973e-06.\n",
            "Epoch 53/100\n",
            "10/10 [==============================] - 4s 325ms/step - loss: 1.9897 - mae: 2.4444 - lr: 3.9811e-06\n",
            "\n",
            "Epoch 00054: LearningRateScheduler setting learning rate to 4.46683592150963e-06.\n",
            "Epoch 54/100\n",
            "10/10 [==============================] - 4s 325ms/step - loss: 1.9650 - mae: 2.4193 - lr: 4.4668e-06\n",
            "\n",
            "Epoch 00055: LearningRateScheduler setting learning rate to 5.011872336272725e-06.\n",
            "Epoch 55/100\n",
            "10/10 [==============================] - 4s 327ms/step - loss: 1.9469 - mae: 2.4008 - lr: 5.0119e-06\n",
            "\n",
            "Epoch 00056: LearningRateScheduler setting learning rate to 5.62341325190349e-06.\n",
            "Epoch 56/100\n",
            "10/10 [==============================] - 4s 324ms/step - loss: 1.9247 - mae: 2.3783 - lr: 5.6234e-06\n",
            "\n",
            "Epoch 00057: LearningRateScheduler setting learning rate to 6.3095734448019305e-06.\n",
            "Epoch 57/100\n",
            "10/10 [==============================] - 4s 329ms/step - loss: 1.9090 - mae: 2.3620 - lr: 6.3096e-06\n",
            "\n",
            "Epoch 00058: LearningRateScheduler setting learning rate to 7.079457843841381e-06.\n",
            "Epoch 58/100\n",
            "10/10 [==============================] - 4s 323ms/step - loss: 1.8863 - mae: 2.3394 - lr: 7.0795e-06\n",
            "\n",
            "Epoch 00059: LearningRateScheduler setting learning rate to 7.943282347242813e-06.\n",
            "Epoch 59/100\n",
            "10/10 [==============================] - 4s 323ms/step - loss: 1.8594 - mae: 2.3120 - lr: 7.9433e-06\n",
            "\n",
            "Epoch 00060: LearningRateScheduler setting learning rate to 8.91250938133746e-06.\n",
            "Epoch 60/100\n",
            "10/10 [==============================] - 4s 323ms/step - loss: 2.1955 - mae: 2.6554 - lr: 8.9125e-06\n",
            "\n",
            "Epoch 00061: LearningRateScheduler setting learning rate to 1e-05.\n",
            "Epoch 61/100\n",
            "10/10 [==============================] - 4s 327ms/step - loss: 2.6837 - mae: 3.1546 - lr: 1.0000e-05\n",
            "\n",
            "Epoch 00062: LearningRateScheduler setting learning rate to 1.122018454301963e-05.\n",
            "Epoch 62/100\n",
            "10/10 [==============================] - 4s 325ms/step - loss: 3.0851 - mae: 3.5609 - lr: 1.1220e-05\n",
            "\n",
            "Epoch 00063: LearningRateScheduler setting learning rate to 1.2589254117941676e-05.\n",
            "Epoch 63/100\n",
            "10/10 [==============================] - 4s 326ms/step - loss: 3.5169 - mae: 3.9962 - lr: 1.2589e-05\n",
            "\n",
            "Epoch 00064: LearningRateScheduler setting learning rate to 1.412537544622754e-05.\n",
            "Epoch 64/100\n",
            "10/10 [==============================] - 4s 327ms/step - loss: 3.6511 - mae: 4.1321 - lr: 1.4125e-05\n",
            "\n",
            "Epoch 00065: LearningRateScheduler setting learning rate to 1.584893192461114e-05.\n",
            "Epoch 65/100\n",
            "10/10 [==============================] - 4s 326ms/step - loss: 4.2094 - mae: 4.6960 - lr: 1.5849e-05\n",
            "\n",
            "Epoch 00066: LearningRateScheduler setting learning rate to 1.778279410038923e-05.\n",
            "Epoch 66/100\n",
            "10/10 [==============================] - 4s 327ms/step - loss: 4.3830 - mae: 4.8693 - lr: 1.7783e-05\n",
            "\n",
            "Epoch 00067: LearningRateScheduler setting learning rate to 1.995262314968879e-05.\n",
            "Epoch 67/100\n",
            "10/10 [==============================] - 4s 328ms/step - loss: 4.6304 - mae: 5.1181 - lr: 1.9953e-05\n",
            "\n",
            "Epoch 00068: LearningRateScheduler setting learning rate to 2.23872113856834e-05.\n",
            "Epoch 68/100\n",
            "10/10 [==============================] - 4s 324ms/step - loss: 4.7068 - mae: 5.1930 - lr: 2.2387e-05\n",
            "\n",
            "Epoch 00069: LearningRateScheduler setting learning rate to 2.5118864315095798e-05.\n",
            "Epoch 69/100\n",
            "10/10 [==============================] - 4s 328ms/step - loss: 5.0459 - mae: 5.5344 - lr: 2.5119e-05\n",
            "\n",
            "Epoch 00070: LearningRateScheduler setting learning rate to 2.818382931264455e-05.\n",
            "Epoch 70/100\n",
            "10/10 [==============================] - 4s 324ms/step - loss: 5.5578 - mae: 6.0495 - lr: 2.8184e-05\n",
            "\n",
            "Epoch 00071: LearningRateScheduler setting learning rate to 3.1622776601683795e-05.\n",
            "Epoch 71/100\n",
            "10/10 [==============================] - 4s 329ms/step - loss: 5.4879 - mae: 5.9732 - lr: 3.1623e-05\n",
            "\n",
            "Epoch 00072: LearningRateScheduler setting learning rate to 3.5481338923357534e-05.\n",
            "Epoch 72/100\n",
            "10/10 [==============================] - 4s 326ms/step - loss: 17.2582 - mae: 17.7543 - lr: 3.5481e-05\n",
            "\n",
            "Epoch 00073: LearningRateScheduler setting learning rate to 3.9810717055349735e-05.\n",
            "Epoch 73/100\n",
            "10/10 [==============================] - 4s 329ms/step - loss: 10.1886 - mae: 10.6795 - lr: 3.9811e-05\n",
            "\n",
            "Epoch 00074: LearningRateScheduler setting learning rate to 4.466835921509631e-05.\n",
            "Epoch 74/100\n",
            "10/10 [==============================] - 4s 325ms/step - loss: 4.8822 - mae: 5.3638 - lr: 4.4668e-05\n",
            "\n",
            "Epoch 00075: LearningRateScheduler setting learning rate to 5.011872336272725e-05.\n",
            "Epoch 75/100\n",
            "10/10 [==============================] - 4s 324ms/step - loss: 3.2684 - mae: 3.7398 - lr: 5.0119e-05\n",
            "\n",
            "Epoch 00076: LearningRateScheduler setting learning rate to 5.6234132519034914e-05.\n",
            "Epoch 76/100\n",
            "10/10 [==============================] - 4s 324ms/step - loss: 2.8537 - mae: 3.3228 - lr: 5.6234e-05\n",
            "\n",
            "Epoch 00077: LearningRateScheduler setting learning rate to 6.30957344480193e-05.\n",
            "Epoch 77/100\n",
            "10/10 [==============================] - 4s 325ms/step - loss: 2.8926 - mae: 3.3620 - lr: 6.3096e-05\n",
            "\n",
            "Epoch 00078: LearningRateScheduler setting learning rate to 7.079457843841381e-05.\n",
            "Epoch 78/100\n",
            "10/10 [==============================] - 4s 326ms/step - loss: 2.9273 - mae: 3.3967 - lr: 7.0795e-05\n",
            "\n",
            "Epoch 00079: LearningRateScheduler setting learning rate to 7.943282347242814e-05.\n",
            "Epoch 79/100\n",
            "10/10 [==============================] - 4s 323ms/step - loss: 2.8309 - mae: 3.2994 - lr: 7.9433e-05\n",
            "\n",
            "Epoch 00080: LearningRateScheduler setting learning rate to 8.912509381337459e-05.\n",
            "Epoch 80/100\n",
            "10/10 [==============================] - 4s 328ms/step - loss: 2.8208 - mae: 3.2888 - lr: 8.9125e-05\n",
            "\n",
            "Epoch 00081: LearningRateScheduler setting learning rate to 0.0001.\n",
            "Epoch 81/100\n",
            "10/10 [==============================] - 4s 325ms/step - loss: 3.1788 - mae: 3.6498 - lr: 1.0000e-04\n",
            "\n",
            "Epoch 00082: LearningRateScheduler setting learning rate to 0.0001122018454301963.\n",
            "Epoch 82/100\n",
            "10/10 [==============================] - 4s 325ms/step - loss: 2.7816 - mae: 3.2490 - lr: 1.1220e-04\n",
            "\n",
            "Epoch 00083: LearningRateScheduler setting learning rate to 0.00012589254117941664.\n",
            "Epoch 83/100\n",
            "10/10 [==============================] - 4s 326ms/step - loss: 3.3565 - mae: 3.8292 - lr: 1.2589e-04\n",
            "\n",
            "Epoch 00084: LearningRateScheduler setting learning rate to 0.00014125375446227554.\n",
            "Epoch 84/100\n",
            "10/10 [==============================] - 4s 325ms/step - loss: 3.5634 - mae: 4.0385 - lr: 1.4125e-04\n",
            "\n",
            "Epoch 00085: LearningRateScheduler setting learning rate to 0.00015848931924611142.\n",
            "Epoch 85/100\n",
            "10/10 [==============================] - 4s 324ms/step - loss: 5.2426 - mae: 5.7279 - lr: 1.5849e-04\n",
            "\n",
            "Epoch 00086: LearningRateScheduler setting learning rate to 0.00017782794100389227.\n",
            "Epoch 86/100\n",
            "10/10 [==============================] - 4s 324ms/step - loss: 6.4228 - mae: 6.9147 - lr: 1.7783e-04\n",
            "\n",
            "Epoch 00087: LearningRateScheduler setting learning rate to 0.0001995262314968879.\n",
            "Epoch 87/100\n",
            "10/10 [==============================] - 4s 326ms/step - loss: 7.1442 - mae: 7.6360 - lr: 1.9953e-04\n",
            "\n",
            "Epoch 00088: LearningRateScheduler setting learning rate to 0.00022387211385683378.\n",
            "Epoch 88/100\n",
            "10/10 [==============================] - 4s 326ms/step - loss: 7.8315 - mae: 8.3209 - lr: 2.2387e-04\n",
            "\n",
            "Epoch 00089: LearningRateScheduler setting learning rate to 0.0002511886431509582.\n",
            "Epoch 89/100\n",
            "10/10 [==============================] - 4s 329ms/step - loss: 41.4622 - mae: 41.9615 - lr: 2.5119e-04\n",
            "\n",
            "Epoch 00090: LearningRateScheduler setting learning rate to 0.0002818382931264455.\n",
            "Epoch 90/100\n",
            "10/10 [==============================] - 4s 328ms/step - loss: 73.5074 - mae: 74.0059 - lr: 2.8184e-04\n",
            "\n",
            "Epoch 00091: LearningRateScheduler setting learning rate to 0.00031622776601683794.\n",
            "Epoch 91/100\n",
            "10/10 [==============================] - 4s 326ms/step - loss: 74.1111 - mae: 74.6111 - lr: 3.1623e-04\n",
            "\n",
            "Epoch 00092: LearningRateScheduler setting learning rate to 0.0003548133892335753.\n",
            "Epoch 92/100\n",
            "10/10 [==============================] - 4s 327ms/step - loss: 88.4340 - mae: 88.9339 - lr: 3.5481e-04\n",
            "\n",
            "Epoch 00093: LearningRateScheduler setting learning rate to 0.0003981071705534969.\n",
            "Epoch 93/100\n",
            "10/10 [==============================] - 4s 330ms/step - loss: 30.3176 - mae: 30.8172 - lr: 3.9811e-04\n",
            "\n",
            "Epoch 00094: LearningRateScheduler setting learning rate to 0.0004466835921509635.\n",
            "Epoch 94/100\n",
            "10/10 [==============================] - 4s 327ms/step - loss: 52.8787 - mae: 53.3730 - lr: 4.4668e-04\n",
            "\n",
            "Epoch 00095: LearningRateScheduler setting learning rate to 0.0005011872336272725.\n",
            "Epoch 95/100\n",
            "10/10 [==============================] - 4s 329ms/step - loss: 72.7576 - mae: 73.2576 - lr: 5.0119e-04\n",
            "\n",
            "Epoch 00096: LearningRateScheduler setting learning rate to 0.0005623413251903491.\n",
            "Epoch 96/100\n",
            "10/10 [==============================] - 4s 326ms/step - loss: 74.3282 - mae: 74.8282 - lr: 5.6234e-04\n",
            "\n",
            "Epoch 00097: LearningRateScheduler setting learning rate to 0.000630957344480193.\n",
            "Epoch 97/100\n",
            "10/10 [==============================] - 4s 325ms/step - loss: 69.0580 - mae: 69.5559 - lr: 6.3096e-04\n",
            "\n",
            "Epoch 00098: LearningRateScheduler setting learning rate to 0.0007079457843841374.\n",
            "Epoch 98/100\n",
            "10/10 [==============================] - 4s 325ms/step - loss: 60.0300 - mae: 60.5272 - lr: 7.0795e-04\n",
            "\n",
            "Epoch 00099: LearningRateScheduler setting learning rate to 0.0007943282347242821.\n",
            "Epoch 99/100\n",
            "10/10 [==============================] - 4s 328ms/step - loss: 60.1711 - mae: 60.6684 - lr: 7.9433e-04\n",
            "\n",
            "Epoch 00100: LearningRateScheduler setting learning rate to 0.0008912509381337459.\n",
            "Epoch 100/100\n",
            "10/10 [==============================] - 4s 327ms/step - loss: 233.7872 - mae: 234.2872 - lr: 8.9125e-04\n"
          ]
        }
      ]
    },
    {
      "cell_type": "markdown",
      "metadata": {
        "collapsed": false,
        "id": "wryNEsg3OQ-Q"
      },
      "source": [
        "# 6. Actualización del learning rate según los resultados obtenidos del primer entrenamiento de la red neuronal"
      ]
    },
    {
      "cell_type": "markdown",
      "metadata": {
        "collapsed": false,
        "id": "lEtS47TWOd8J"
      },
      "source": [
        "Después del entrenamiento de la red neuronal se ve que learning rate resultante es de 1e-5. Se visualizará gráficamente para entender el motivo por el que se ha usado ese valor. En la gráfica se puede ver cómo el learning rate con el que menos loss hay es 1e-5, y por ese motivo, se debe volver a entrenar la red neuronal con dicho learning rate."
      ]
    },
    {
      "cell_type": "code",
      "metadata": {
        "id": "KpydHm4hYZap",
        "colab": {
          "base_uri": "https://localhost:8080/",
          "height": 290
        },
        "outputId": "304bd349-04b0-4806-f5d2-8a614494a8e3"
      },
      "source": [
        "plt.semilogx(history.history[\"lr\"], history.history[\"loss\"])\n",
        "plt.axis([1e-8, 1e-4, 0, 60])"
      ],
      "execution_count": 14,
      "outputs": [
        {
          "output_type": "execute_result",
          "data": {
            "text/plain": [
              "(1e-08, 0.0001, 0.0, 60.0)"
            ]
          },
          "metadata": {},
          "execution_count": 14
        },
        {
          "output_type": "display_data",
          "data": {
            "image/png": "[encoded data removed]",
            "text/plain": [
              "<Figure size 432x288 with 1 Axes>"
            ]
          },
          "metadata": {
            "needs_background": "light"
          }
        }
      ]
    },
    {
      "cell_type": "markdown",
      "metadata": {
        "collapsed": false,
        "id": "iJCCYtWUOo3R"
      },
      "source": [
        "Se vuelve a inicializar la sesión de entrenamiento y la variable train_set:"
      ]
    },
    {
      "cell_type": "code",
      "metadata": {
        "id": "zRczRPRJO2hr"
      },
      "source": [
        "tf.keras.backend.clear_session()\n",
        "tf.random.set_seed(51)\n",
        "np.random.seed(51)\n",
        "train_set = windowed_dataset(x_train, window_size=60, batch_size=100, shuffle_buffer=shuffle_buffer_size)"
      ],
      "execution_count": 15,
      "outputs": []
    },
    {
      "cell_type": "markdown",
      "metadata": {
        "collapsed": false,
        "id": "WhM4opUcO9W0"
      },
      "source": [
        "**Ejercicio 6 (0.5 puntos)**: Para crear el nuevo modelo, reutiliza la red neuronal diseñada en el ejercicio 4, pero esta vez utilizando 60 filtros en la capa de convolución."
      ]
    },
    {
      "cell_type": "code",
      "metadata": {
        "id": "eGXpMjoxO4eK"
      },
      "source": [
        "## tu código para la red neuronal del ejercicio 6 aquí\n",
        "model = tf.keras.models.Sequential([\n",
        "  layers.Conv1D(filters = 60, kernel_size = 5, strides = 1, padding='causal', activation='relu', input_shape=[None, 1]),\n",
        "  layers.LSTM(64, return_sequences=True),\n",
        "  layers.LSTM(64, return_sequences=True),\n",
        "  layers.Dense(30, activation='relu'),\n",
        "  layers.Dense(10, activation='relu'),\n",
        "  layers.Dense(1),\n",
        "  layers.Lambda(lambda x: x * 400)\n",
        "])"
      ],
      "execution_count": 16,
      "outputs": []
    },
    {
      "cell_type": "markdown",
      "metadata": {
        "collapsed": false,
        "id": "jd5wr58SPaet"
      },
      "source": [
        "**Ejercicio 7 (0.5 puntos)**: Se debe volver a compilar la red neuronal de manera análoga a la del ejercicio 5, pero esta vez utilizar un learning rate obtenido de la función callback."
      ]
    },
    {
      "cell_type": "code",
      "metadata": {
        "id": "Q0cVmEu5O7UZ",
        "colab": {
          "base_uri": "https://localhost:8080/"
        },
        "outputId": "ec7ef276-b750-4fe7-803b-50499ba81326"
      },
      "source": [
        "## tu código para compilar la red neuronal para el ejercicio 7 aquí\n",
        "optimizer = tf.keras.optimizers.SGD(lr=1e-5, momentum=0.9)\n",
        "model.compile(loss=tf.keras.losses.Huber(), optimizer=optimizer, metrics=[\"mae\"])"
      ],
      "execution_count": 17,
      "outputs": [
        {
          "output_type": "stream",
          "name": "stderr",
          "text": [
            "/usr/local/lib/python3.7/dist-packages/keras/optimizer_v2/gradient_descent.py:102: UserWarning: The `lr` argument is deprecated, use `learning_rate` instead.\n",
            "  super(SGD, self).__init__(name, **kwargs)\n"
          ]
        }
      ]
    },
    {
      "cell_type": "code",
      "metadata": {
        "id": "CYrg5kSzYb5i",
        "colab": {
          "base_uri": "https://localhost:8080/"
        },
        "outputId": "6f7606a3-eff3-48ba-87a4-47174a7403f8"
      },
      "source": [
        "history = model.fit(train_set,epochs=150)"
      ],
      "execution_count": 18,
      "outputs": [
        {
          "output_type": "stream",
          "name": "stdout",
          "text": [
            "Epoch 1/150\n",
            "25/25 [==============================] - 7s 138ms/step - loss: 8.7353 - mae: 9.2271\n",
            "Epoch 2/150\n",
            "25/25 [==============================] - 4s 139ms/step - loss: 2.7653 - mae: 3.2312\n",
            "Epoch 3/150\n",
            "25/25 [==============================] - 4s 137ms/step - loss: 1.9252 - mae: 2.3794\n",
            "Epoch 4/150\n",
            "25/25 [==============================] - 4s 138ms/step - loss: 1.8234 - mae: 2.2740\n",
            "Epoch 5/150\n",
            "25/25 [==============================] - 4s 138ms/step - loss: 1.7699 - mae: 2.2191\n",
            "Epoch 6/150\n",
            "25/25 [==============================] - 4s 137ms/step - loss: 1.7398 - mae: 2.1882\n",
            "Epoch 7/150\n",
            "25/25 [==============================] - 4s 138ms/step - loss: 1.7193 - mae: 2.1671\n",
            "Epoch 8/150\n",
            "25/25 [==============================] - 4s 138ms/step - loss: 1.6992 - mae: 2.1465\n",
            "Epoch 9/150\n",
            "25/25 [==============================] - 4s 139ms/step - loss: 1.6972 - mae: 2.1443\n",
            "Epoch 10/150\n",
            "25/25 [==============================] - 4s 138ms/step - loss: 1.6691 - mae: 2.1153\n",
            "Epoch 11/150\n",
            "25/25 [==============================] - 4s 139ms/step - loss: 1.6605 - mae: 2.1065\n",
            "Epoch 12/150\n",
            "25/25 [==============================] - 4s 139ms/step - loss: 1.6483 - mae: 2.0939\n",
            "Epoch 13/150\n",
            "25/25 [==============================] - 4s 137ms/step - loss: 1.6439 - mae: 2.0896\n",
            "Epoch 14/150\n",
            "25/25 [==============================] - 4s 139ms/step - loss: 1.6313 - mae: 2.0764\n",
            "Epoch 15/150\n",
            "25/25 [==============================] - 4s 140ms/step - loss: 1.6213 - mae: 2.0657\n",
            "Epoch 16/150\n",
            "25/25 [==============================] - 4s 138ms/step - loss: 1.6171 - mae: 2.0619\n",
            "Epoch 17/150\n",
            "25/25 [==============================] - 4s 136ms/step - loss: 1.6035 - mae: 2.0475\n",
            "Epoch 18/150\n",
            "25/25 [==============================] - 4s 137ms/step - loss: 1.6018 - mae: 2.0458\n",
            "Epoch 19/150\n",
            "25/25 [==============================] - 4s 135ms/step - loss: 1.5994 - mae: 2.0436\n",
            "Epoch 20/150\n",
            "25/25 [==============================] - 4s 138ms/step - loss: 1.6211 - mae: 2.0668\n",
            "Epoch 21/150\n",
            "25/25 [==============================] - 4s 137ms/step - loss: 1.5888 - mae: 2.0330\n",
            "Epoch 22/150\n",
            "25/25 [==============================] - 4s 139ms/step - loss: 1.6045 - mae: 2.0491\n",
            "Epoch 23/150\n",
            "25/25 [==============================] - 4s 138ms/step - loss: 1.5767 - mae: 2.0201\n",
            "Epoch 24/150\n",
            "25/25 [==============================] - 4s 138ms/step - loss: 1.5686 - mae: 2.0116\n",
            "Epoch 25/150\n",
            "25/25 [==============================] - 4s 138ms/step - loss: 1.5706 - mae: 2.0139\n",
            "Epoch 26/150\n",
            "25/25 [==============================] - 4s 139ms/step - loss: 1.5692 - mae: 2.0125\n",
            "Epoch 27/150\n",
            "25/25 [==============================] - 4s 137ms/step - loss: 1.5579 - mae: 2.0007\n",
            "Epoch 28/150\n",
            "25/25 [==============================] - 4s 139ms/step - loss: 1.5556 - mae: 1.9982\n",
            "Epoch 29/150\n",
            "25/25 [==============================] - 4s 138ms/step - loss: 1.5503 - mae: 1.9924\n",
            "Epoch 30/150\n",
            "25/25 [==============================] - 4s 138ms/step - loss: 1.5487 - mae: 1.9908\n",
            "Epoch 31/150\n",
            "25/25 [==============================] - 4s 137ms/step - loss: 1.5457 - mae: 1.9882\n",
            "Epoch 32/150\n",
            "25/25 [==============================] - 4s 138ms/step - loss: 1.5428 - mae: 1.9846\n",
            "Epoch 33/150\n",
            "25/25 [==============================] - 4s 139ms/step - loss: 1.5403 - mae: 1.9824\n",
            "Epoch 34/150\n",
            "25/25 [==============================] - 4s 138ms/step - loss: 1.5401 - mae: 1.9820\n",
            "Epoch 35/150\n",
            "25/25 [==============================] - 4s 138ms/step - loss: 1.5446 - mae: 1.9872\n",
            "Epoch 36/150\n",
            "25/25 [==============================] - 4s 141ms/step - loss: 1.5306 - mae: 1.9721\n",
            "Epoch 37/150\n",
            "25/25 [==============================] - 4s 137ms/step - loss: 1.5365 - mae: 1.9787\n",
            "Epoch 38/150\n",
            "25/25 [==============================] - 4s 138ms/step - loss: 1.5289 - mae: 1.9703\n",
            "Epoch 39/150\n",
            "25/25 [==============================] - 4s 137ms/step - loss: 1.5336 - mae: 1.9756\n",
            "Epoch 40/150\n",
            "25/25 [==============================] - 4s 139ms/step - loss: 1.5228 - mae: 1.9640\n",
            "Epoch 41/150\n",
            "25/25 [==============================] - 4s 137ms/step - loss: 1.5255 - mae: 1.9675\n",
            "Epoch 42/150\n",
            "25/25 [==============================] - 4s 139ms/step - loss: 1.5233 - mae: 1.9646\n",
            "Epoch 43/150\n",
            "25/25 [==============================] - 4s 139ms/step - loss: 1.5293 - mae: 1.9711\n",
            "Epoch 44/150\n",
            "25/25 [==============================] - 4s 139ms/step - loss: 1.5208 - mae: 1.9622\n",
            "Epoch 45/150\n",
            "25/25 [==============================] - 4s 138ms/step - loss: 1.5133 - mae: 1.9542\n",
            "Epoch 46/150\n",
            "25/25 [==============================] - 4s 137ms/step - loss: 1.5143 - mae: 1.9550\n",
            "Epoch 47/150\n",
            "25/25 [==============================] - 4s 138ms/step - loss: 1.5092 - mae: 1.9495\n",
            "Epoch 48/150\n",
            "25/25 [==============================] - 4s 138ms/step - loss: 1.5101 - mae: 1.9507\n",
            "Epoch 49/150\n",
            "25/25 [==============================] - 4s 138ms/step - loss: 1.5167 - mae: 1.9584\n",
            "Epoch 50/150\n",
            "25/25 [==============================] - 4s 139ms/step - loss: 1.5083 - mae: 1.9488\n",
            "Epoch 51/150\n",
            "25/25 [==============================] - 4s 139ms/step - loss: 1.5088 - mae: 1.9497\n",
            "Epoch 52/150\n",
            "25/25 [==============================] - 4s 138ms/step - loss: 1.5053 - mae: 1.9458\n",
            "Epoch 53/150\n",
            "25/25 [==============================] - 4s 138ms/step - loss: 1.5122 - mae: 1.9535\n",
            "Epoch 54/150\n",
            "25/25 [==============================] - 4s 139ms/step - loss: 1.5031 - mae: 1.9432\n",
            "Epoch 55/150\n",
            "25/25 [==============================] - 4s 139ms/step - loss: 1.5025 - mae: 1.9426\n",
            "Epoch 56/150\n",
            "25/25 [==============================] - 4s 139ms/step - loss: 1.5008 - mae: 1.9415\n",
            "Epoch 57/150\n",
            "25/25 [==============================] - 4s 138ms/step - loss: 1.5042 - mae: 1.9450\n",
            "Epoch 58/150\n",
            "25/25 [==============================] - 4s 138ms/step - loss: 1.4996 - mae: 1.9401\n",
            "Epoch 59/150\n",
            "25/25 [==============================] - 4s 139ms/step - loss: 1.4955 - mae: 1.9354\n",
            "Epoch 60/150\n",
            "25/25 [==============================] - 4s 140ms/step - loss: 1.4952 - mae: 1.9352\n",
            "Epoch 61/150\n",
            "25/25 [==============================] - 4s 141ms/step - loss: 1.5023 - mae: 1.9429\n",
            "Epoch 62/150\n",
            "25/25 [==============================] - 4s 140ms/step - loss: 1.4993 - mae: 1.9394\n",
            "Epoch 63/150\n",
            "25/25 [==============================] - 4s 140ms/step - loss: 1.5013 - mae: 1.9417\n",
            "Epoch 64/150\n",
            "25/25 [==============================] - 4s 139ms/step - loss: 1.4923 - mae: 1.9322\n",
            "Epoch 65/150\n",
            "25/25 [==============================] - 4s 139ms/step - loss: 1.5196 - mae: 1.9623\n",
            "Epoch 66/150\n",
            "25/25 [==============================] - 4s 138ms/step - loss: 1.4966 - mae: 1.9367\n",
            "Epoch 67/150\n",
            "25/25 [==============================] - 4s 138ms/step - loss: 1.5006 - mae: 1.9417\n",
            "Epoch 68/150\n",
            "25/25 [==============================] - 4s 136ms/step - loss: 1.4940 - mae: 1.9339\n",
            "Epoch 69/150\n",
            "25/25 [==============================] - 4s 138ms/step - loss: 1.4869 - mae: 1.9262\n",
            "Epoch 70/150\n",
            "25/25 [==============================] - 4s 138ms/step - loss: 1.4896 - mae: 1.9295\n",
            "Epoch 71/150\n",
            "25/25 [==============================] - 4s 139ms/step - loss: 1.4858 - mae: 1.9251\n",
            "Epoch 72/150\n",
            "25/25 [==============================] - 4s 138ms/step - loss: 1.4854 - mae: 1.9247\n",
            "Epoch 73/150\n",
            "25/25 [==============================] - 4s 139ms/step - loss: 1.4868 - mae: 1.9262\n",
            "Epoch 74/150\n",
            "25/25 [==============================] - 4s 139ms/step - loss: 1.4973 - mae: 1.9379\n",
            "Epoch 75/150\n",
            "25/25 [==============================] - 4s 137ms/step - loss: 1.4942 - mae: 1.9345\n",
            "Epoch 76/150\n",
            "25/25 [==============================] - 4s 137ms/step - loss: 1.4853 - mae: 1.9245\n",
            "Epoch 77/150\n",
            "25/25 [==============================] - 4s 137ms/step - loss: 1.4860 - mae: 1.9255\n",
            "Epoch 78/150\n",
            "25/25 [==============================] - 4s 138ms/step - loss: 1.4842 - mae: 1.9234\n",
            "Epoch 79/150\n",
            "25/25 [==============================] - 4s 137ms/step - loss: 1.4808 - mae: 1.9198\n",
            "Epoch 80/150\n",
            "25/25 [==============================] - 4s 137ms/step - loss: 1.4899 - mae: 1.9300\n",
            "Epoch 81/150\n",
            "25/25 [==============================] - 4s 137ms/step - loss: 1.4900 - mae: 1.9303\n",
            "Epoch 82/150\n",
            "25/25 [==============================] - 4s 136ms/step - loss: 1.4790 - mae: 1.9178\n",
            "Epoch 83/150\n",
            "25/25 [==============================] - 4s 137ms/step - loss: 1.4815 - mae: 1.9203\n",
            "Epoch 84/150\n",
            "25/25 [==============================] - 4s 137ms/step - loss: 1.4785 - mae: 1.9172\n",
            "Epoch 85/150\n",
            "25/25 [==============================] - 4s 137ms/step - loss: 1.4847 - mae: 1.9243\n",
            "Epoch 86/150\n",
            "25/25 [==============================] - 4s 138ms/step - loss: 1.4792 - mae: 1.9185\n",
            "Epoch 87/150\n",
            "25/25 [==============================] - 4s 137ms/step - loss: 1.4787 - mae: 1.9180\n",
            "Epoch 88/150\n",
            "25/25 [==============================] - 4s 137ms/step - loss: 1.4861 - mae: 1.9259\n",
            "Epoch 89/150\n",
            "25/25 [==============================] - 4s 137ms/step - loss: 1.4787 - mae: 1.9175\n",
            "Epoch 90/150\n",
            "25/25 [==============================] - 4s 137ms/step - loss: 1.4775 - mae: 1.9166\n",
            "Epoch 91/150\n",
            "25/25 [==============================] - 4s 138ms/step - loss: 1.4738 - mae: 1.9122\n",
            "Epoch 92/150\n",
            "25/25 [==============================] - 4s 135ms/step - loss: 1.4794 - mae: 1.9185\n",
            "Epoch 93/150\n",
            "25/25 [==============================] - 4s 137ms/step - loss: 1.4787 - mae: 1.9179\n",
            "Epoch 94/150\n",
            "25/25 [==============================] - 4s 136ms/step - loss: 1.4780 - mae: 1.9178\n",
            "Epoch 95/150\n",
            "25/25 [==============================] - 4s 137ms/step - loss: 1.4807 - mae: 1.9204\n",
            "Epoch 96/150\n",
            "25/25 [==============================] - 4s 138ms/step - loss: 1.4907 - mae: 1.9316\n",
            "Epoch 97/150\n",
            "25/25 [==============================] - 4s 137ms/step - loss: 1.4728 - mae: 1.9115\n",
            "Epoch 98/150\n",
            "25/25 [==============================] - 4s 138ms/step - loss: 1.4765 - mae: 1.9157\n",
            "Epoch 99/150\n",
            "25/25 [==============================] - 4s 136ms/step - loss: 1.4850 - mae: 1.9247\n",
            "Epoch 100/150\n",
            "25/25 [==============================] - 4s 136ms/step - loss: 1.4752 - mae: 1.9145\n",
            "Epoch 101/150\n",
            "25/25 [==============================] - 4s 137ms/step - loss: 1.4769 - mae: 1.9162\n",
            "Epoch 102/150\n",
            "25/25 [==============================] - 4s 137ms/step - loss: 1.4734 - mae: 1.9124\n",
            "Epoch 103/150\n",
            "25/25 [==============================] - 4s 136ms/step - loss: 1.4698 - mae: 1.9080\n",
            "Epoch 104/150\n",
            "25/25 [==============================] - 4s 137ms/step - loss: 1.4769 - mae: 1.9163\n",
            "Epoch 105/150\n",
            "25/25 [==============================] - 4s 138ms/step - loss: 1.4711 - mae: 1.9096\n",
            "Epoch 106/150\n",
            "25/25 [==============================] - 4s 139ms/step - loss: 1.4747 - mae: 1.9138\n",
            "Epoch 107/150\n",
            "25/25 [==============================] - 4s 137ms/step - loss: 1.4688 - mae: 1.9074\n",
            "Epoch 108/150\n",
            "25/25 [==============================] - 4s 137ms/step - loss: 1.4714 - mae: 1.9106\n",
            "Epoch 109/150\n",
            "25/25 [==============================] - 4s 139ms/step - loss: 1.4795 - mae: 1.9196\n",
            "Epoch 110/150\n",
            "25/25 [==============================] - 4s 137ms/step - loss: 1.4718 - mae: 1.9109\n",
            "Epoch 111/150\n",
            "25/25 [==============================] - 4s 138ms/step - loss: 1.4740 - mae: 1.9138\n",
            "Epoch 112/150\n",
            "25/25 [==============================] - 4s 138ms/step - loss: 1.4728 - mae: 1.9122\n",
            "Epoch 113/150\n",
            "25/25 [==============================] - 4s 137ms/step - loss: 1.4654 - mae: 1.9036\n",
            "Epoch 114/150\n",
            "25/25 [==============================] - 4s 137ms/step - loss: 1.4652 - mae: 1.9033\n",
            "Epoch 115/150\n",
            "25/25 [==============================] - 4s 137ms/step - loss: 1.4665 - mae: 1.9050\n",
            "Epoch 116/150\n",
            "25/25 [==============================] - 4s 137ms/step - loss: 1.4663 - mae: 1.9048\n",
            "Epoch 117/150\n",
            "25/25 [==============================] - 4s 135ms/step - loss: 1.4671 - mae: 1.9058\n",
            "Epoch 118/150\n",
            "25/25 [==============================] - 4s 138ms/step - loss: 1.4656 - mae: 1.9040\n",
            "Epoch 119/150\n",
            "25/25 [==============================] - 4s 136ms/step - loss: 1.4677 - mae: 1.9065\n",
            "Epoch 120/150\n",
            "25/25 [==============================] - 4s 136ms/step - loss: 1.4706 - mae: 1.9102\n",
            "Epoch 121/150\n",
            "25/25 [==============================] - 4s 136ms/step - loss: 1.4630 - mae: 1.9014\n",
            "Epoch 122/150\n",
            "25/25 [==============================] - 4s 136ms/step - loss: 1.4655 - mae: 1.9040\n",
            "Epoch 123/150\n",
            "25/25 [==============================] - 4s 136ms/step - loss: 1.4669 - mae: 1.9057\n",
            "Epoch 124/150\n",
            "25/25 [==============================] - 4s 138ms/step - loss: 1.4682 - mae: 1.9068\n",
            "Epoch 125/150\n",
            "25/25 [==============================] - 4s 137ms/step - loss: 1.4634 - mae: 1.9015\n",
            "Epoch 126/150\n",
            "25/25 [==============================] - 4s 136ms/step - loss: 1.4626 - mae: 1.9009\n",
            "Epoch 127/150\n",
            "25/25 [==============================] - 4s 139ms/step - loss: 1.4648 - mae: 1.9032\n",
            "Epoch 128/150\n",
            "25/25 [==============================] - 4s 137ms/step - loss: 1.4716 - mae: 1.9110\n",
            "Epoch 129/150\n",
            "25/25 [==============================] - 4s 137ms/step - loss: 1.4636 - mae: 1.9021\n",
            "Epoch 130/150\n",
            "25/25 [==============================] - 4s 139ms/step - loss: 1.4635 - mae: 1.9019\n",
            "Epoch 131/150\n",
            "25/25 [==============================] - 4s 138ms/step - loss: 1.4654 - mae: 1.9044\n",
            "Epoch 132/150\n",
            "25/25 [==============================] - 4s 138ms/step - loss: 1.4724 - mae: 1.9121\n",
            "Epoch 133/150\n",
            "25/25 [==============================] - 4s 138ms/step - loss: 1.4653 - mae: 1.9038\n",
            "Epoch 134/150\n",
            "25/25 [==============================] - 4s 137ms/step - loss: 1.4641 - mae: 1.9025\n",
            "Epoch 135/150\n",
            "25/25 [==============================] - 4s 137ms/step - loss: 1.4638 - mae: 1.9026\n",
            "Epoch 136/150\n",
            "25/25 [==============================] - 4s 139ms/step - loss: 1.4661 - mae: 1.9052\n",
            "Epoch 137/150\n",
            "25/25 [==============================] - 4s 139ms/step - loss: 1.4640 - mae: 1.9029\n",
            "Epoch 138/150\n",
            "25/25 [==============================] - 4s 138ms/step - loss: 1.4635 - mae: 1.9020\n",
            "Epoch 139/150\n",
            "25/25 [==============================] - 4s 137ms/step - loss: 1.4614 - mae: 1.8996\n",
            "Epoch 140/150\n",
            "25/25 [==============================] - 4s 137ms/step - loss: 1.4612 - mae: 1.8996\n",
            "Epoch 141/150\n",
            "25/25 [==============================] - 4s 139ms/step - loss: 1.4593 - mae: 1.8974\n",
            "Epoch 142/150\n",
            "25/25 [==============================] - 4s 138ms/step - loss: 1.4579 - mae: 1.8960\n",
            "Epoch 143/150\n",
            "25/25 [==============================] - 4s 139ms/step - loss: 1.4580 - mae: 1.8960\n",
            "Epoch 144/150\n",
            "25/25 [==============================] - 4s 138ms/step - loss: 1.4643 - mae: 1.9033\n",
            "Epoch 145/150\n",
            "25/25 [==============================] - 4s 137ms/step - loss: 1.4631 - mae: 1.9020\n",
            "Epoch 146/150\n",
            "25/25 [==============================] - 4s 139ms/step - loss: 1.4606 - mae: 1.8990\n",
            "Epoch 147/150\n",
            "25/25 [==============================] - 4s 139ms/step - loss: 1.4578 - mae: 1.8956\n",
            "Epoch 148/150\n",
            "25/25 [==============================] - 4s 139ms/step - loss: 1.4763 - mae: 1.9161\n",
            "Epoch 149/150\n",
            "25/25 [==============================] - 4s 139ms/step - loss: 1.4628 - mae: 1.9016\n",
            "Epoch 150/150\n",
            "25/25 [==============================] - 4s 140ms/step - loss: 1.4589 - mae: 1.8970\n"
          ]
        }
      ]
    },
    {
      "cell_type": "markdown",
      "metadata": {
        "collapsed": false,
        "id": "dE59CkauRD_o"
      },
      "source": [
        "# 7. Predicción de los siguientes valores de la serie temporal"
      ]
    },
    {
      "cell_type": "markdown",
      "metadata": {
        "collapsed": false,
        "id": "ati5x7OfReWH"
      },
      "source": [
        "Para concluir la actividad, se usa el método model_forecast que se ha diseñado utilizando el método de la ventana temporal para hacer el nuevo metodo rnn_forecast con el cual se calcularán los nuevos valores de la serie temporal. Posteriormente, se pinta una gráfica para ver esos resultados y comprobar de forma visual que son correctos. Además, se dan los resultados de esas predicciones en forma númerica, de esta forma, este modelo diseñado en esta actividad podría ser el input de un nuevo algoritmo si fuera necesario."
      ]
    },
    {
      "cell_type": "code",
      "metadata": {
        "id": "RWB79gRyYdvB"
      },
      "source": [
        "rnn_forecast = model_forecast(model, series[..., np.newaxis], window_size)\n",
        "rnn_forecast = rnn_forecast[split_time - window_size:-1, -1, 0]"
      ],
      "execution_count": 19,
      "outputs": []
    },
    {
      "cell_type": "code",
      "metadata": {
        "id": "OrMdV-SnYiCG",
        "colab": {
          "base_uri": "https://localhost:8080/",
          "height": 389
        },
        "outputId": "17a38454-e9ba-4ef9-fe8f-e78b3f265e14"
      },
      "source": [
        "plt.figure(figsize=(10, 6))\n",
        "plot_series(time_valid, x_valid)\n",
        "plot_series(time_valid, rnn_forecast)"
      ],
      "execution_count": 20,
      "outputs": [
        {
          "output_type": "display_data",
          "data": {
            "image/png": "[encoded data removed]",
            "text/plain": [
              "<Figure size 720x432 with 1 Axes>"
            ]
          },
          "metadata": {
            "needs_background": "light"
          }
        }
      ]
    },
    {
      "cell_type": "code",
      "metadata": {
        "id": "bpa88mPVYj27",
        "colab": {
          "base_uri": "https://localhost:8080/"
        },
        "outputId": "112ded80-bc47-484b-b5c7-08a22a576c1e"
      },
      "source": [
        "tf.keras.metrics.mean_absolute_error(x_valid, rnn_forecast).numpy()"
      ],
      "execution_count": 21,
      "outputs": [
        {
          "output_type": "execute_result",
          "data": {
            "text/plain": [
              "1.8270569"
            ]
          },
          "metadata": {},
          "execution_count": 21
        }
      ]
    },
    {
      "cell_type": "code",
      "metadata": {
        "id": "r4VPNDrEYmEA",
        "colab": {
          "base_uri": "https://localhost:8080/"
        },
        "outputId": "3f5ac995-10a6-49a5-cc9c-656bc56afd35"
      },
      "source": [
        "print(rnn_forecast)"
      ],
      "execution_count": 22,
      "outputs": [
        {
          "output_type": "stream",
          "name": "stdout",
          "text": [
            "[11.867471 11.26065  12.263344 ... 13.51223  13.549477 14.578256]\n"
          ]
        }
      ]
    },
    {
      "cell_type": "markdown",
      "metadata": {
        "collapsed": false,
        "id": "46vKm-K1RVrl"
      },
      "source": [
        "# 8. Mostrar gráficamente los resultados.\n",
        "\n",
        "Una vez obtenido el resultado de la actividad, se procede a revisr de forma gráfica el training y validation loss a lo largo de los epochs en este nuevo entrenamiento con el learning rate optimizado."
      ]
    },
    {
      "cell_type": "code",
      "metadata": {
        "id": "YwQvZC6wlaTi"
      },
      "source": [
        "import matplotlib.image  as mpimg\n",
        "import matplotlib.pyplot as plt\n",
        "\n",
        "#-----------------------------------------------------------\n",
        "# Recuperar una lista de resultados de la lista de datos de entrenamiento y pruebas para cada epoch de entrenamiento\n",
        "#-----------------------------------------------------------\n",
        "loss=history.history['loss']\n",
        "\n",
        "epochs=range(len(loss)) # Get number of epochs"
      ],
      "execution_count": 23,
      "outputs": []
    },
    {
      "cell_type": "markdown",
      "metadata": {
        "collapsed": false,
        "id": "CAEJ3vP3lbz9"
      },
      "source": [
        "A continuación se realiza el plot de la pérdida frente a los epochs"
      ]
    },
    {
      "cell_type": "code",
      "metadata": {
        "id": "yKwWOTYCl4Ib",
        "colab": {
          "base_uri": "https://localhost:8080/",
          "height": 330
        },
        "outputId": "3a382651-5eeb-40a2-8aa6-6ef451f76d31"
      },
      "source": [
        "#------------------------------------------------\n",
        "# Pérdida de entrenamiento y validación por epoch\n",
        "#------------------------------------------------\n",
        "plt.plot(epochs, loss, 'r')\n",
        "plt.title('Training loss')\n",
        "plt.xlabel(\"Epochs\")\n",
        "plt.ylabel(\"Loss\")\n",
        "plt.legend([\"Loss\"])\n",
        "\n",
        "plt.figure()"
      ],
      "execution_count": 24,
      "outputs": [
        {
          "output_type": "execute_result",
          "data": {
            "text/plain": [
              "<Figure size 432x288 with 0 Axes>"
            ]
          },
          "metadata": {},
          "execution_count": 24
        },
        {
          "output_type": "display_data",
          "data": {
            "image/png": "[encoded data removed]",
            "text/plain": [
              "<Figure size 432x288 with 1 Axes>"
            ]
          },
          "metadata": {
            "needs_background": "light"
          }
        },
        {
          "output_type": "display_data",
          "data": {
            "text/plain": [
              "<Figure size 432x288 with 0 Axes>"
            ]
          },
          "metadata": {}
        }
      ]
    },
    {
      "cell_type": "markdown",
      "metadata": {
        "collapsed": false,
        "id": "Xw4817Otl6A6"
      },
      "source": [
        "**Ejercicio 8 (0.5 punto)**: Utilizando las 2 nuevas variables zoomed_loss y zoomed_epochs y con base en el código anterior, hacer el plot del loss frente a los epochs entre los epoch 20 y 150 para ver como va oscilando y no es un proceso lineal como podria parecer según el anterior plot."
      ]
    },
    {
      "cell_type": "code",
      "metadata": {
        "id": "gh6OToWdAggR",
        "colab": {
          "base_uri": "https://localhost:8080/",
          "height": 312
        },
        "outputId": "c74d5962-e934-49e5-a4aa-6ddbc23b5c05"
      },
      "source": [
        "#------------------------------------------------\n",
        "# Pérdida de entrenamiento y validación por epoch con zoom\n",
        "#------------------------------------------------\n",
        "zoomed_loss = loss[20:]\n",
        "zoomed_epochs = range(20,150)\n",
        "#\n",
        "## tu código para el plot con zoom del ejercicio 8 aquí\n",
        "plt.plot(zoomed_epochs, zoomed_loss, 'b')\n",
        "plt.title('Training loss')\n",
        "plt.xlabel(\"Epochs\")\n",
        "plt.ylabel(\"Loss\")\n",
        "plt.legend([\"Loss\"])"
      ],
      "execution_count": 25,
      "outputs": [
        {
          "output_type": "execute_result",
          "data": {
            "text/plain": [
              "<matplotlib.legend.Legend at 0x7fb473b10350>"
            ]
          },
          "metadata": {},
          "execution_count": 25
        },
        {
          "output_type": "display_data",
          "data": {
            "image/png": "[encoded data removed]",
            "text/plain": [
              "<Figure size 432x288 with 1 Axes>"
            ]
          },
          "metadata": {
            "needs_background": "light"
          }
        }
      ]
    }
  ]
}