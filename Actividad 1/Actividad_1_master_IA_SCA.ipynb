{
  "nbformat": 4,
  "nbformat_minor": 0,
  "metadata": {
    "kernelspec": {
      "display_name": "Python 3",
      "language": "python",
      "name": "python3"
    },
    "language_info": {
      "codemirror_mode": {
        "name": "ipython",
        "version": 3
      },
      "file_extension": ".py",
      "mimetype": "text/x-python",
      "name": "python",
      "nbconvert_exporter": "python",
      "pygments_lexer": "ipython3",
      "version": "3.8.5"
    },
    "colab": {
      "name": "Actividad_1_master_IA_SCA.ipynb",
      "provenance": [],
      "collapsed_sections": []
    }
  },
  "cells": [
    {
      "cell_type": "markdown",
      "metadata": {
        "id": "4VFT5_VnJl19"
      },
      "source": [
        "# Actividad 1: Conceptos generales de redes neuronales\n",
        "En esta actividad vamos a revisar algunos de los conceptos basicos de las redes neuronales, pero no por ello menos importantes.\n",
        "\n",
        "El dataset a utilizar es Fashion MNIST, un problema sencillo con imágenes pequeñas de ropa, pero más interesante que el dataset de MNIST. Puedes consultar más información sobre el dataset en este enlace.\n",
        "\n",
        "El código utilizado para contestar tiene que quedar claramente reflejado en el Notebook. Puedes crear nuevas cells si así lo deseas para estructurar tu código y sus salidas. A la hora de entregar el notebook, asegúrate de que los resultados de ejecutar tu código han quedado guardados (por ejemplo, a la hora de entrenar una red neuronal tiene que verse claramente un log de los resultados de cada epoch)."
      ]
    },
    {
      "cell_type": "code",
      "metadata": {
        "id": "VU8gdrsVG4h0",
        "colab": {
          "base_uri": "https://localhost:8080/"
        },
        "outputId": "5967aa20-7f3e-46d8-a426-830cbf0401ff"
      },
      "source": [
        "import tensorflow as tf\n",
        "print(tf.__version__)"
      ],
      "execution_count": 2,
      "outputs": [
        {
          "output_type": "stream",
          "name": "stdout",
          "text": [
            "2.6.0\n"
          ]
        }
      ]
    },
    {
      "cell_type": "markdown",
      "metadata": {
        "id": "zScMKU2OKSPD"
      },
      "source": [
        "En primer lugar vamos a importar el dataset Fashion MNIST (recordad que este es uno de los dataset de entranamiento que estan guardados en keras) que es el que vamos a utilizar en esta actividad:"
      ]
    },
    {
      "cell_type": "code",
      "metadata": {
        "id": "4voG2hxxG4h3"
      },
      "source": [
        "mnist = tf.keras.datasets.fashion_mnist"
      ],
      "execution_count": 3,
      "outputs": []
    },
    {
      "cell_type": "markdown",
      "metadata": {
        "id": "JphLsCvgKrzb"
      },
      "source": [
        "Llamar a **load_data** en este dataset nos dará dos conjuntos de dos listas, estos serán los valores de entrenamiento y prueba para los gráficos que contienen las prendas de vestir y sus etiquetas.\n",
        "\n",
        "Nota: Aunque en esta actividad lo veis de esta forma, también lo vais a poder encontrar como 4 variables de esta forma: training_images, training_labels, test_images, test_labels = mnist.load_data()"
      ]
    },
    {
      "cell_type": "code",
      "metadata": {
        "id": "1muD4PHEG4h6",
        "colab": {
          "base_uri": "https://localhost:8080/"
        },
        "outputId": "85566e80-4b6b-40fa-ef9b-ba45e4768fd1"
      },
      "source": [
        "(training_images, training_labels), (test_images, test_labels) = mnist.load_data()"
      ],
      "execution_count": 4,
      "outputs": [
        {
          "output_type": "stream",
          "name": "stdout",
          "text": [
            "Downloading data from https://storage.googleapis.com/tensorflow/tf-keras-datasets/train-labels-idx1-ubyte.gz\n",
            "32768/29515 [=================================] - 0s 0us/step\n",
            "40960/29515 [=========================================] - 0s 0us/step\n",
            "Downloading data from https://storage.googleapis.com/tensorflow/tf-keras-datasets/train-images-idx3-ubyte.gz\n",
            "26427392/26421880 [==============================] - 0s 0us/step\n",
            "26435584/26421880 [==============================] - 0s 0us/step\n",
            "Downloading data from https://storage.googleapis.com/tensorflow/tf-keras-datasets/t10k-labels-idx1-ubyte.gz\n",
            "16384/5148 [===============================================================================================] - 0s 0us/step\n",
            "Downloading data from https://storage.googleapis.com/tensorflow/tf-keras-datasets/t10k-images-idx3-ubyte.gz\n",
            "4423680/4422102 [==============================] - 0s 0us/step\n",
            "4431872/4422102 [==============================] - 0s 0us/step\n"
          ]
        }
      ]
    },
    {
      "cell_type": "markdown",
      "metadata": {
        "id": "ZWGpJqVVLT3Y"
      },
      "source": [
        "Antes de continuar vamos a dar un vistazo a nuestro dataset, para ello vamos a ver una imagen de entrenamiento y su etiqueta o clase."
      ]
    },
    {
      "cell_type": "code",
      "metadata": {
        "id": "t5a5PlswG4h8",
        "colab": {
          "base_uri": "https://localhost:8080/",
          "height": 778
        },
        "outputId": "97f66843-0bd6-4b9c-9e5b-6461f686e105"
      },
      "source": [
        "import numpy as np\n",
        "np.set_printoptions(linewidth=200)\n",
        "import matplotlib.pyplot as plt\n",
        "plt.imshow(training_images[0], cmap=\"gray\") # recordad que siempre es preferible trabajar en blanco y negro\n",
        "#\n",
        "print(training_labels[0])\n",
        "print(training_images[0])"
      ],
      "execution_count": 5,
      "outputs": [
        {
          "output_type": "stream",
          "name": "stdout",
          "text": [
            "9\n",
            "[[  0   0   0   0   0   0   0   0   0   0   0   0   0   0   0   0   0   0   0   0   0   0   0   0   0   0   0   0]\n",
            " [  0   0   0   0   0   0   0   0   0   0   0   0   0   0   0   0   0   0   0   0   0   0   0   0   0   0   0   0]\n",
            " [  0   0   0   0   0   0   0   0   0   0   0   0   0   0   0   0   0   0   0   0   0   0   0   0   0   0   0   0]\n",
            " [  0   0   0   0   0   0   0   0   0   0   0   0   1   0   0  13  73   0   0   1   4   0   0   0   0   1   1   0]\n",
            " [  0   0   0   0   0   0   0   0   0   0   0   0   3   0  36 136 127  62  54   0   0   0   1   3   4   0   0   3]\n",
            " [  0   0   0   0   0   0   0   0   0   0   0   0   6   0 102 204 176 134 144 123  23   0   0   0   0  12  10   0]\n",
            " [  0   0   0   0   0   0   0   0   0   0   0   0   0   0 155 236 207 178 107 156 161 109  64  23  77 130  72  15]\n",
            " [  0   0   0   0   0   0   0   0   0   0   0   1   0  69 207 223 218 216 216 163 127 121 122 146 141  88 172  66]\n",
            " [  0   0   0   0   0   0   0   0   0   1   1   1   0 200 232 232 233 229 223 223 215 213 164 127 123 196 229   0]\n",
            " [  0   0   0   0   0   0   0   0   0   0   0   0   0 183 225 216 223 228 235 227 224 222 224 221 223 245 173   0]\n",
            " [  0   0   0   0   0   0   0   0   0   0   0   0   0 193 228 218 213 198 180 212 210 211 213 223 220 243 202   0]\n",
            " [  0   0   0   0   0   0   0   0   0   1   3   0  12 219 220 212 218 192 169 227 208 218 224 212 226 197 209  52]\n",
            " [  0   0   0   0   0   0   0   0   0   0   6   0  99 244 222 220 218 203 198 221 215 213 222 220 245 119 167  56]\n",
            " [  0   0   0   0   0   0   0   0   0   4   0   0  55 236 228 230 228 240 232 213 218 223 234 217 217 209  92   0]\n",
            " [  0   0   1   4   6   7   2   0   0   0   0   0 237 226 217 223 222 219 222 221 216 223 229 215 218 255  77   0]\n",
            " [  0   3   0   0   0   0   0   0   0  62 145 204 228 207 213 221 218 208 211 218 224 223 219 215 224 244 159   0]\n",
            " [  0   0   0   0  18  44  82 107 189 228 220 222 217 226 200 205 211 230 224 234 176 188 250 248 233 238 215   0]\n",
            " [  0  57 187 208 224 221 224 208 204 214 208 209 200 159 245 193 206 223 255 255 221 234 221 211 220 232 246   0]\n",
            " [  3 202 228 224 221 211 211 214 205 205 205 220 240  80 150 255 229 221 188 154 191 210 204 209 222 228 225   0]\n",
            " [ 98 233 198 210 222 229 229 234 249 220 194 215 217 241  65  73 106 117 168 219 221 215 217 223 223 224 229  29]\n",
            " [ 75 204 212 204 193 205 211 225 216 185 197 206 198 213 240 195 227 245 239 223 218 212 209 222 220 221 230  67]\n",
            " [ 48 203 183 194 213 197 185 190 194 192 202 214 219 221 220 236 225 216 199 206 186 181 177 172 181 205 206 115]\n",
            " [  0 122 219 193 179 171 183 196 204 210 213 207 211 210 200 196 194 191 195 191 198 192 176 156 167 177 210  92]\n",
            " [  0   0  74 189 212 191 175 172 175 181 185 188 189 188 193 198 204 209 210 210 211 188 188 194 192 216 170   0]\n",
            " [  2   0   0   0  66 200 222 237 239 242 246 243 244 221 220 193 191 179 182 182 181 176 166 168  99  58   0   0]\n",
            " [  0   0   0   0   0   0   0  40  61  44  72  41  35   0   0   0   0   0   0   0   0   0   0   0   0   0   0   0]\n",
            " [  0   0   0   0   0   0   0   0   0   0   0   0   0   0   0   0   0   0   0   0   0   0   0   0   0   0   0   0]\n",
            " [  0   0   0   0   0   0   0   0   0   0   0   0   0   0   0   0   0   0   0   0   0   0   0   0   0   0   0   0]]\n"
          ]
        },
        {
          "output_type": "display_data",
          "data": {
            "image/png": "[encoded data removed]",
            "text/plain": [
              "<Figure size 432x288 with 1 Axes>"
            ]
          },
          "metadata": {
            "needs_background": "light"
          }
        }
      ]
    },
    {
      "cell_type": "markdown",
      "metadata": {
        "id": "WCJvZx3MLucY"
      },
      "source": [
        "Habreis notado que todos los valores numericos están entre 0 y 255. Si estamos entrenando una red neuronal, una buena practica es transformar todos los valores entre 0 y 1, un proceso llamado \"normalización\" y afortunadamente en Python es fácil normalizar una lista. Lo puedes hacer de esta manera:"
      ]
    },
    {
      "cell_type": "markdown",
      "metadata": {
        "id": "OLpAvdVcRlyx"
      },
      "source": [
        ""
      ]
    },
    {
      "cell_type": "code",
      "metadata": {
        "id": "tojL1BmjG4h_"
      },
      "source": [
        "training_images  = training_images / 255.0\n",
        "test_images = test_images / 255.0"
      ],
      "execution_count": 6,
      "outputs": []
    },
    {
      "cell_type": "markdown",
      "metadata": {
        "id": "yYUWWsszMAKt"
      },
      "source": [
        "Ahora vamos a definir el modelo, pero antes vamos a repasar algunos comandos y conceptos muy utiles:\n",
        "* **Sequential**: Eso define una SECUENCIA de capas en la red neuronal\n",
        "* **Dense**: Añade una capa de neuronas\n",
        "* **Flatten**: ¿Recuerdas que las imágenes cómo eran las imagenes cuando las imprimiste para poder verlas? Un cuadrado, Flatten sólo toma ese cuadrado y lo convierte en un vector de una dimensión.\n",
        "\n",
        "Cada capa de neuronas necesita una función de activación. Normalmente se usa la función relu en las capas intermedias y softmax en la ultima capa\n",
        "* **Relu** significa que \"Si X>0 devuelve X, si no, devuelve 0\", así que lo que hace es pasar sólo valores 0 o mayores a la siguiente capa de la red.\n",
        "* **Softmax** toma un conjunto de valores, y escoge el más grande."
      ]
    },
    {
      "cell_type": "markdown",
      "metadata": {
        "id": "QgBW1yE2MwPp"
      },
      "source": [
        " **Pregunta 1 (3.5 puntos)**. Utilizando Keras, y preparando los datos de X e y como fuera necesario, define y entrena una red neuronal que sea capaz de clasificar imágenes de Fashion MNIST con las siguientes características:\n",
        "\n",
        "* Una hidden layer de tamaños 128, utilizando unidades sigmoid\n",
        "Optimizador Adam.\n",
        "* Durante el entrenamiento, la red tiene que mostrar resultados de loss y accuracy por cada epoch.\n",
        "* La red debe entrenar durante 10 epochs y batch size de 64.\n",
        "* La última capa debe de ser una capa softmax.\n",
        "* Tu red tendría que ser capaz de superar fácilmente 80% de accuracy."
      ]
    },
    {
      "cell_type": "code",
      "metadata": {
        "id": "aTaD2QXIORwu",
        "colab": {
          "base_uri": "https://localhost:8080/"
        },
        "outputId": "03c4b102-a943-4d93-dc73-1d7cd1deaffb"
      },
      "source": [
        "### Tu código para la red neuronal de la pregunta 1 aquí ###\n",
        "\n",
        "from tensorflow import keras\n",
        "\n",
        "# Creamos un modelo conformado por una secuencia de capas\n",
        "model = keras.models.Sequential()\n",
        "# Capa 1\n",
        "model.add(keras.layers.Flatten(input_shape=[28,28]))\n",
        "# Capa 2\n",
        "model.add(keras.layers.Dense(128, activation=\"sigmoid\"))\n",
        "# Capa 3: Con 10 neuronas, las 10 posibles prendas\n",
        "model.add(keras.layers.Dense(10, activation=\"softmax\"))\n",
        "model.summary()"
      ],
      "execution_count": 10,
      "outputs": [
        {
          "output_type": "stream",
          "name": "stdout",
          "text": [
            "Model: \"sequential_1\"\n",
            "_________________________________________________________________\n",
            "Layer (type)                 Output Shape              Param #   \n",
            "=================================================================\n",
            "flatten_1 (Flatten)          (None, 784)               0         \n",
            "_________________________________________________________________\n",
            "dense_2 (Dense)              (None, 128)               100480    \n",
            "_________________________________________________________________\n",
            "dense_3 (Dense)              (None, 10)                1290      \n",
            "=================================================================\n",
            "Total params: 101,770\n",
            "Trainable params: 101,770\n",
            "Non-trainable params: 0\n",
            "_________________________________________________________________\n"
          ]
        }
      ]
    },
    {
      "cell_type": "code",
      "metadata": {
        "colab": {
          "base_uri": "https://localhost:8080/"
        },
        "id": "0bh_ACMrr9tI",
        "outputId": "f259eb9a-69fd-4ff9-a847-1542fabac43e"
      },
      "source": [
        "model.compile(loss=\"sparse_categorical_crossentropy\", optimizer=\"adam\", metrics=[\"accuracy\"])\n",
        "\n",
        "X_valid, X_train = training_images[:5000], training_images[5000:]\n",
        "y_valid, y_train = training_labels[:5000], training_labels[5000:]\n",
        "\n",
        "# Entrenamos el modelo\n",
        "history = model.fit(X_train, y_train, epochs=20, validation_data=(X_valid, y_valid), batch_size=64)"
      ],
      "execution_count": 12,
      "outputs": [
        {
          "output_type": "stream",
          "name": "stdout",
          "text": [
            "Epoch 1/20\n",
            "860/860 [==============================] - 4s 4ms/step - loss: 0.1734 - accuracy: 0.9375 - val_loss: 0.2890 - val_accuracy: 0.8952\n",
            "Epoch 2/20\n",
            "860/860 [==============================] - 3s 4ms/step - loss: 0.1694 - accuracy: 0.9387 - val_loss: 0.2862 - val_accuracy: 0.8988\n",
            "Epoch 3/20\n",
            "860/860 [==============================] - 3s 3ms/step - loss: 0.1654 - accuracy: 0.9405 - val_loss: 0.2936 - val_accuracy: 0.8940\n",
            "Epoch 4/20\n",
            "860/860 [==============================] - 3s 3ms/step - loss: 0.1617 - accuracy: 0.9416 - val_loss: 0.2961 - val_accuracy: 0.8970\n",
            "Epoch 5/20\n",
            "860/860 [==============================] - 3s 3ms/step - loss: 0.1580 - accuracy: 0.9440 - val_loss: 0.2974 - val_accuracy: 0.8988\n",
            "Epoch 6/20\n",
            "860/860 [==============================] - 3s 3ms/step - loss: 0.1548 - accuracy: 0.9445 - val_loss: 0.2908 - val_accuracy: 0.8978\n",
            "Epoch 7/20\n",
            "860/860 [==============================] - 3s 3ms/step - loss: 0.1500 - accuracy: 0.9466 - val_loss: 0.2965 - val_accuracy: 0.8980\n",
            "Epoch 8/20\n",
            "860/860 [==============================] - 3s 3ms/step - loss: 0.1479 - accuracy: 0.9475 - val_loss: 0.2954 - val_accuracy: 0.8976\n",
            "Epoch 9/20\n",
            "860/860 [==============================] - 3s 3ms/step - loss: 0.1443 - accuracy: 0.9486 - val_loss: 0.3033 - val_accuracy: 0.8974\n",
            "Epoch 10/20\n",
            "860/860 [==============================] - 3s 3ms/step - loss: 0.1410 - accuracy: 0.9501 - val_loss: 0.3011 - val_accuracy: 0.8948\n",
            "Epoch 11/20\n",
            "860/860 [==============================] - 3s 3ms/step - loss: 0.1378 - accuracy: 0.9517 - val_loss: 0.2984 - val_accuracy: 0.8976\n",
            "Epoch 12/20\n",
            "860/860 [==============================] - 3s 3ms/step - loss: 0.1344 - accuracy: 0.9522 - val_loss: 0.3151 - val_accuracy: 0.8946\n",
            "Epoch 13/20\n",
            "860/860 [==============================] - 3s 3ms/step - loss: 0.1316 - accuracy: 0.9538 - val_loss: 0.3166 - val_accuracy: 0.8976\n",
            "Epoch 14/20\n",
            "860/860 [==============================] - 3s 3ms/step - loss: 0.1281 - accuracy: 0.9550 - val_loss: 0.3027 - val_accuracy: 0.8978\n",
            "Epoch 15/20\n",
            "860/860 [==============================] - 3s 3ms/step - loss: 0.1253 - accuracy: 0.9559 - val_loss: 0.3012 - val_accuracy: 0.8990\n",
            "Epoch 16/20\n",
            "860/860 [==============================] - 3s 3ms/step - loss: 0.1226 - accuracy: 0.9575 - val_loss: 0.3042 - val_accuracy: 0.8984\n",
            "Epoch 17/20\n",
            "860/860 [==============================] - 3s 3ms/step - loss: 0.1220 - accuracy: 0.9568 - val_loss: 0.3100 - val_accuracy: 0.8972\n",
            "Epoch 18/20\n",
            "860/860 [==============================] - 3s 3ms/step - loss: 0.1176 - accuracy: 0.9585 - val_loss: 0.3232 - val_accuracy: 0.8968\n",
            "Epoch 19/20\n",
            "860/860 [==============================] - 3s 3ms/step - loss: 0.1146 - accuracy: 0.9606 - val_loss: 0.3141 - val_accuracy: 0.8958\n",
            "Epoch 20/20\n",
            "860/860 [==============================] - 3s 3ms/step - loss: 0.1126 - accuracy: 0.9605 - val_loss: 0.3330 - val_accuracy: 0.8864\n"
          ]
        }
      ]
    },
    {
      "cell_type": "code",
      "metadata": {
        "colab": {
          "base_uri": "https://localhost:8080/",
          "height": 324
        },
        "id": "izvIcrDRW-Ox",
        "outputId": "9753f4f2-7871-482b-e2fe-3f5470b4ae33"
      },
      "source": [
        "import pandas as pd \n",
        "\n",
        "pd.DataFrame(history.history).plot(figsize=(8,5))\n",
        "plt.grid(True)\n",
        "plt.gca().set_ylim(0,1)\n",
        "plt.show()"
      ],
      "execution_count": 14,
      "outputs": [
        {
          "output_type": "display_data",
          "data": {
            "image/png": "[encoded data removed]",
            "text/plain": [
              "<Figure size 576x360 with 1 Axes>"
            ]
          },
          "metadata": {
            "needs_background": "light"
          }
        }
      ]
    },
    {
      "cell_type": "markdown",
      "metadata": {
        "id": "Bxr5hTKYOQnK"
      },
      "source": [
        "Para concluir el entrenamiento de la red neuronal, una buena practica es evaluar el modelo para ver si la precisión de entrenamiento es real\n",
        "\n",
        "**pregunta 2 (0.5 puntos)**: evalua el modelo con las imagenes y etiquetas test."
      ]
    },
    {
      "cell_type": "code",
      "metadata": {
        "id": "VNjQEtUUG4iI",
        "colab": {
          "base_uri": "https://localhost:8080/"
        },
        "outputId": "3ef613d2-6de0-4246-a3f7-8e2467f3a86d"
      },
      "source": [
        "### Tu código para la evaluación de la red neuronal de la pregunta 2 aquí ###\n",
        "\n",
        "model.evaluate(test_images, test_labels) "
      ],
      "execution_count": 17,
      "outputs": [
        {
          "output_type": "stream",
          "name": "stdout",
          "text": [
            "313/313 [==============================] - 0s 1ms/step - loss: 0.3786 - accuracy: 0.8773\n"
          ]
        },
        {
          "output_type": "execute_result",
          "data": {
            "text/plain": [
              "[0.37855109572410583, 0.8773000240325928]"
            ]
          },
          "metadata": {},
          "execution_count": 17
        }
      ]
    },
    {
      "cell_type": "markdown",
      "metadata": {
        "id": "7GOzh639aCxk"
      },
      "source": [
        "Podemos ver que en la última iteración del entrenamiendo del modelo tenemos:\n",
        "\n",
        "1.   loss: 0.1126\n",
        "2.   accuracy: 0.9605\n",
        "\n",
        "Tras evaluar el modelo con los valores de test podemos considerar que está bien entrenado ya que tenemos unos valores semejantes:\n",
        "\n",
        "1.   loss: 0.3786\n",
        "2.   accuracy: 0.8773"
      ]
    },
    {
      "cell_type": "markdown",
      "metadata": {
        "id": "ygMVnmSYO83U"
      },
      "source": [
        "Ahora vamos a explorar el código con una serie de ejercicios para alcanzar un grado de comprensión mayor sobre las redes neuronales y su entrenamiento.\n",
        "\n",
        "# **Ejercicio 1: Funcionamiento de las predicción de la red neuronal**\n",
        "\n",
        "Para este primer ejercicio sigue los siguientes pasos: \n",
        "\n",
        "* Crea una variable llamada **classifications** para construir un clasificador para las imágenes de prueba, para ello puedes utilizar la función predict sobre el conjunto de test\n",
        "* Imprime con la función print la primera entrada en las clasificaciones. \n",
        "\n",
        "**pregunta 3.1 (0.25 puntos)**, el resultado al imprimirlo es un vector de números, \n",
        "* ¿Por qué crees que ocurre esto, y qué representa este vector de números?\n",
        "\n",
        "**pregunta 3.2 (0.25 puntos)**\n",
        "* ¿Cúal es la clase de la primera entrada#  de la variable **classifications**? La respuesta puede ser un número o su etiqueta/clase equivalente."
      ]
    },
    {
      "cell_type": "code",
      "metadata": {
        "id": "b-mL-h4xQhCm",
        "colab": {
          "base_uri": "https://localhost:8080/"
        },
        "outputId": "f4c56419-b78d-4845-b1d4-ad572b793a2d"
      },
      "source": [
        "### Tu código del clasificador de la pregunta 3 aquí ###\n",
        "\n",
        "classifications = model.predict(test_images)\n",
        "print(classifications[0])\n",
        "print(np.argmax(classifications[0]))"
      ],
      "execution_count": 37,
      "outputs": [
        {
          "output_type": "stream",
          "name": "stdout",
          "text": [
            "[7.8277669e-11 3.8395145e-10 1.6089382e-09 3.1912883e-10 4.3480936e-10 6.2448089e-06 1.3633886e-08 9.2139933e-04 1.1584957e-11 9.9907231e-01]\n",
            "9\n"
          ]
        }
      ]
    },
    {
      "cell_type": "markdown",
      "metadata": {
        "id": "pvbVC9gaQhMY"
      },
      "source": [
        "Tu respuesta a la pregunta 3.1 aquí:"
      ]
    },
    {
      "cell_type": "markdown",
      "metadata": {
        "id": "ylXRWrKSe_KW"
      },
      "source": [
        "Representa el nivel de **confianza** del modelo sobre las imagenes de prendas de ropa."
      ]
    },
    {
      "cell_type": "markdown",
      "metadata": {
        "id": "oRWo-75tdgv0"
      },
      "source": [
        "Tu respuesta a la pregunta 3.2 aquí:"
      ]
    },
    {
      "cell_type": "markdown",
      "metadata": {
        "id": "fSgYued-fofW"
      },
      "source": [
        "Clase"
      ]
    },
    {
      "cell_type": "markdown",
      "metadata": {
        "id": "hiQ8qAzhRQ4L"
      },
      "source": [
        "# **Ejercicio 2: Impacto variar el número de neuronas en las capas ocultas**\n",
        "\n",
        "En este ejercicio vamos a experimentar con nuestra red neuronal cambiando el numero de neuronas por 512 y por 1024. Para ello, utiliza la red neuronal de la pregunta 1, y su capa oculta cambia las 128 neuronas:\n",
        "\n",
        "* **pregunta 4.1 (0.25 puntos)**: 512 neuronas en la capa oculta\n",
        "* **pregunta 4.2 (0.25 puntos)**:1024 neuronas en la capa oculta\n",
        "\n",
        "y entrena la red en ambos casos.\n",
        "\n",
        "**pregunta 4.3 (0.5 puntos)**: ¿Cual es el impacto que tiene la red neuronal?"
      ]
    },
    {
      "cell_type": "code",
      "metadata": {
        "id": "cdP8ZwuaUV93",
        "colab": {
          "base_uri": "https://localhost:8080/"
        },
        "outputId": "25e53e5c-fad4-4b08-89a0-dab86cb695a2"
      },
      "source": [
        "### Tu código para 512 neuronas aquí ###\n",
        "# Creamos un modelo conformado por una secuencia de capas\n",
        "model_512 = keras.models.Sequential()\n",
        "# Capa 1\n",
        "model_512.add(keras.layers.Flatten(input_shape=[28,28]))\n",
        "# Capa 2\n",
        "model_512.add(keras.layers.Dense(512, activation=\"sigmoid\"))\n",
        "# Capa 3: Con 10 neuronas, las 10 posibles prendas\n",
        "model_512.add(keras.layers.Dense(10, activation=\"softmax\"))\n",
        "model_512.summary()\n",
        "\n",
        "# Compilamos el modelo\n",
        "model_512.compile(loss=\"sparse_categorical_crossentropy\", optimizer=\"adam\", metrics=[\"accuracy\"])\n",
        "# Entrenamos el modelo\n",
        "history = model_512.fit(X_train, y_train, epochs=20, validation_data=(X_valid, y_valid), batch_size=64)"
      ],
      "execution_count": 30,
      "outputs": [
        {
          "output_type": "stream",
          "name": "stdout",
          "text": [
            "Model: \"sequential_11\"\n",
            "_________________________________________________________________\n",
            "Layer (type)                 Output Shape              Param #   \n",
            "=================================================================\n",
            "flatten_11 (Flatten)         (None, 784)               0         \n",
            "_________________________________________________________________\n",
            "dense_22 (Dense)             (None, 512)               401920    \n",
            "_________________________________________________________________\n",
            "dense_23 (Dense)             (None, 10)                5130      \n",
            "=================================================================\n",
            "Total params: 407,050\n",
            "Trainable params: 407,050\n",
            "Non-trainable params: 0\n",
            "_________________________________________________________________\n",
            "Epoch 1/20\n",
            "860/860 [==============================] - 6s 6ms/step - loss: 0.5366 - accuracy: 0.8108 - val_loss: 0.4325 - val_accuracy: 0.8454\n",
            "Epoch 2/20\n",
            "860/860 [==============================] - 5s 6ms/step - loss: 0.4072 - accuracy: 0.8538 - val_loss: 0.3868 - val_accuracy: 0.8606\n",
            "Epoch 3/20\n",
            "860/860 [==============================] - 5s 6ms/step - loss: 0.3673 - accuracy: 0.8672 - val_loss: 0.3738 - val_accuracy: 0.8650\n",
            "Epoch 4/20\n",
            "860/860 [==============================] - 5s 6ms/step - loss: 0.3418 - accuracy: 0.8754 - val_loss: 0.3541 - val_accuracy: 0.8706\n",
            "Epoch 5/20\n",
            "860/860 [==============================] - 5s 6ms/step - loss: 0.3201 - accuracy: 0.8833 - val_loss: 0.3272 - val_accuracy: 0.8800\n",
            "Epoch 6/20\n",
            "860/860 [==============================] - 5s 6ms/step - loss: 0.3035 - accuracy: 0.8875 - val_loss: 0.3169 - val_accuracy: 0.8848\n",
            "Epoch 7/20\n",
            "860/860 [==============================] - 5s 6ms/step - loss: 0.2874 - accuracy: 0.8942 - val_loss: 0.3069 - val_accuracy: 0.8862\n",
            "Epoch 8/20\n",
            "860/860 [==============================] - 5s 6ms/step - loss: 0.2756 - accuracy: 0.8980 - val_loss: 0.3051 - val_accuracy: 0.8884\n",
            "Epoch 9/20\n",
            "860/860 [==============================] - 5s 6ms/step - loss: 0.2628 - accuracy: 0.9022 - val_loss: 0.3349 - val_accuracy: 0.8806\n",
            "Epoch 10/20\n",
            "860/860 [==============================] - 5s 6ms/step - loss: 0.2521 - accuracy: 0.9065 - val_loss: 0.3106 - val_accuracy: 0.8912\n",
            "Epoch 11/20\n",
            "860/860 [==============================] - 5s 6ms/step - loss: 0.2402 - accuracy: 0.9103 - val_loss: 0.2996 - val_accuracy: 0.8906\n",
            "Epoch 12/20\n",
            "860/860 [==============================] - 5s 6ms/step - loss: 0.2305 - accuracy: 0.9136 - val_loss: 0.2987 - val_accuracy: 0.8900\n",
            "Epoch 13/20\n",
            "860/860 [==============================] - 5s 6ms/step - loss: 0.2228 - accuracy: 0.9166 - val_loss: 0.2893 - val_accuracy: 0.8952\n",
            "Epoch 14/20\n",
            "860/860 [==============================] - 5s 6ms/step - loss: 0.2125 - accuracy: 0.9206 - val_loss: 0.3060 - val_accuracy: 0.8886\n",
            "Epoch 15/20\n",
            "860/860 [==============================] - 5s 6ms/step - loss: 0.2045 - accuracy: 0.9241 - val_loss: 0.3038 - val_accuracy: 0.8902\n",
            "Epoch 16/20\n",
            "860/860 [==============================] - 5s 6ms/step - loss: 0.1961 - accuracy: 0.9281 - val_loss: 0.2872 - val_accuracy: 0.8958\n",
            "Epoch 17/20\n",
            "860/860 [==============================] - 5s 6ms/step - loss: 0.1895 - accuracy: 0.9307 - val_loss: 0.2871 - val_accuracy: 0.8996\n",
            "Epoch 18/20\n",
            "860/860 [==============================] - 5s 6ms/step - loss: 0.1828 - accuracy: 0.9317 - val_loss: 0.2919 - val_accuracy: 0.8942\n",
            "Epoch 19/20\n",
            "860/860 [==============================] - 5s 6ms/step - loss: 0.1741 - accuracy: 0.9350 - val_loss: 0.2886 - val_accuracy: 0.8972\n",
            "Epoch 20/20\n",
            "860/860 [==============================] - 5s 6ms/step - loss: 0.1692 - accuracy: 0.9371 - val_loss: 0.2941 - val_accuracy: 0.8972\n"
          ]
        }
      ]
    },
    {
      "cell_type": "code",
      "metadata": {
        "id": "YXBlbbfuUaPa",
        "colab": {
          "base_uri": "https://localhost:8080/"
        },
        "outputId": "02eff184-6cee-4004-eed3-c30c32b80f1f"
      },
      "source": [
        "### Tu código para 1024 neuronas aquí ###\n",
        "# Creamos un modelo conformado por una secuencia de capas\n",
        "model_1024 = keras.models.Sequential()\n",
        "# Capa 1\n",
        "model_1024.add(keras.layers.Flatten(input_shape=[28,28]))\n",
        "# Capa 2\n",
        "model_1024.add(keras.layers.Dense(1024, activation=\"sigmoid\"))\n",
        "# Capa 3: Con 10 neuronas, las 10 posibles prendas\n",
        "model_1024.add(keras.layers.Dense(10, activation=\"softmax\"))\n",
        "model_1024.summary()\n",
        "\n",
        "# Compilamos el modelo\n",
        "model_1024.compile(loss=\"sparse_categorical_crossentropy\", optimizer=\"adam\", metrics=[\"accuracy\"])\n",
        "# Entrenamos el modelo\n",
        "history = model_1024.fit(X_train, y_train, epochs=20, validation_data=(X_valid, y_valid), batch_size=64)"
      ],
      "execution_count": 31,
      "outputs": [
        {
          "output_type": "stream",
          "name": "stdout",
          "text": [
            "Model: \"sequential_12\"\n",
            "_________________________________________________________________\n",
            "Layer (type)                 Output Shape              Param #   \n",
            "=================================================================\n",
            "flatten_12 (Flatten)         (None, 784)               0         \n",
            "_________________________________________________________________\n",
            "dense_24 (Dense)             (None, 1024)              803840    \n",
            "_________________________________________________________________\n",
            "dense_25 (Dense)             (None, 10)                10250     \n",
            "=================================================================\n",
            "Total params: 814,090\n",
            "Trainable params: 814,090\n",
            "Non-trainable params: 0\n",
            "_________________________________________________________________\n",
            "Epoch 1/20\n",
            "860/860 [==============================] - 9s 10ms/step - loss: 0.5304 - accuracy: 0.8115 - val_loss: 0.4134 - val_accuracy: 0.8596\n",
            "Epoch 2/20\n",
            "860/860 [==============================] - 8s 10ms/step - loss: 0.4079 - accuracy: 0.8529 - val_loss: 0.3724 - val_accuracy: 0.8644\n",
            "Epoch 3/20\n",
            "860/860 [==============================] - 8s 10ms/step - loss: 0.3696 - accuracy: 0.8648 - val_loss: 0.3597 - val_accuracy: 0.8686\n",
            "Epoch 4/20\n",
            "860/860 [==============================] - 8s 10ms/step - loss: 0.3426 - accuracy: 0.8753 - val_loss: 0.3380 - val_accuracy: 0.8772\n",
            "Epoch 5/20\n",
            "860/860 [==============================] - 9s 10ms/step - loss: 0.3197 - accuracy: 0.8824 - val_loss: 0.3283 - val_accuracy: 0.8806\n",
            "Epoch 6/20\n",
            "860/860 [==============================] - 9s 10ms/step - loss: 0.3010 - accuracy: 0.8888 - val_loss: 0.3123 - val_accuracy: 0.8882\n",
            "Epoch 7/20\n",
            "860/860 [==============================] - 8s 10ms/step - loss: 0.2826 - accuracy: 0.8952 - val_loss: 0.3184 - val_accuracy: 0.8836\n",
            "Epoch 8/20\n",
            "860/860 [==============================] - 9s 10ms/step - loss: 0.2686 - accuracy: 0.8994 - val_loss: 0.2944 - val_accuracy: 0.8920\n",
            "Epoch 9/20\n",
            "860/860 [==============================] - 9s 10ms/step - loss: 0.2565 - accuracy: 0.9039 - val_loss: 0.3045 - val_accuracy: 0.8910\n",
            "Epoch 10/20\n",
            "860/860 [==============================] - 9s 10ms/step - loss: 0.2430 - accuracy: 0.9103 - val_loss: 0.3135 - val_accuracy: 0.8870\n",
            "Epoch 11/20\n",
            "860/860 [==============================] - 8s 10ms/step - loss: 0.2306 - accuracy: 0.9129 - val_loss: 0.2897 - val_accuracy: 0.8924\n",
            "Epoch 12/20\n",
            "860/860 [==============================] - 9s 10ms/step - loss: 0.2209 - accuracy: 0.9174 - val_loss: 0.2870 - val_accuracy: 0.8950\n",
            "Epoch 13/20\n",
            "860/860 [==============================] - 9s 10ms/step - loss: 0.2101 - accuracy: 0.9217 - val_loss: 0.3186 - val_accuracy: 0.8860\n",
            "Epoch 14/20\n",
            "860/860 [==============================] - 9s 10ms/step - loss: 0.2010 - accuracy: 0.9255 - val_loss: 0.2864 - val_accuracy: 0.8986\n",
            "Epoch 15/20\n",
            "860/860 [==============================] - 9s 10ms/step - loss: 0.1919 - accuracy: 0.9283 - val_loss: 0.3004 - val_accuracy: 0.8910\n",
            "Epoch 16/20\n",
            "860/860 [==============================] - 9s 10ms/step - loss: 0.1842 - accuracy: 0.9309 - val_loss: 0.3023 - val_accuracy: 0.8956\n",
            "Epoch 17/20\n",
            "860/860 [==============================] - 9s 10ms/step - loss: 0.1772 - accuracy: 0.9336 - val_loss: 0.3096 - val_accuracy: 0.8914\n",
            "Epoch 18/20\n",
            "860/860 [==============================] - 9s 10ms/step - loss: 0.1683 - accuracy: 0.9374 - val_loss: 0.3042 - val_accuracy: 0.8926\n",
            "Epoch 19/20\n",
            "860/860 [==============================] - 9s 10ms/step - loss: 0.1599 - accuracy: 0.9405 - val_loss: 0.3084 - val_accuracy: 0.8948\n",
            "Epoch 20/20\n",
            "860/860 [==============================] - 9s 10ms/step - loss: 0.1515 - accuracy: 0.9436 - val_loss: 0.3063 - val_accuracy: 0.8982\n"
          ]
        }
      ]
    },
    {
      "cell_type": "markdown",
      "metadata": {
        "id": "wG0h2HL-Uj93"
      },
      "source": [
        "Tu respuesta a la pregunta 4.3 aquí:"
      ]
    },
    {
      "cell_type": "markdown",
      "metadata": {
        "id": "ulIoB5GUjNAH"
      },
      "source": [
        "\n",
        "Como podemos ver en los valores de la última iteración del entrenamiento del modelo, estos devuelven resultados muy parecidos incluso aumentando neuronas.\n",
        "\n",
        "*   128 Neuronas: loss: 0.1126 - accuracy: 0.9605 - val_loss: 0.3330 - val_accuracy: 0.8864\n",
        "*   512 Neuronas: loss: 0.1695 - accuracy: 0.9382 - val_loss: 0.3088 - val_accuracy: 0.8896\n",
        "*   1024 Neuronas: loss: 0.1553 - accuracy: 0.9413 - val_loss: 0.3117 - val_accuracy: 0.8948\n",
        "\n",
        "Al parece son capaces de predecir casi con la misma precisión, la gran diferencia entre ellos está en los parámetros donde:\n",
        "\n",
        "*   128 Neuronas: 101 parámetros\n",
        "*   512 Neuronas: 407 parámetros\n",
        "*   1024 Neuronas: 814 parámetros\n",
        "\n",
        "Con lo que en conclusión no necesitamos más neuronas para mejorar la predicción, solo conseguimos necesitar más tiempo para entrenar el modelo.\n",
        "\n"
      ]
    },
    {
      "cell_type": "markdown",
      "metadata": {
        "id": "b-NpUI9EVkVz"
      },
      "source": [
        "Si ahora entrenais el modelo de esta forma (con 512 y 1024 neuronas en la capa oculta) y volveis a ejecutar el predictor guardado en la variable **classifications**, escribir el código del clasificador del ejercicio 1 de nuevo e imprimid el primer objeto guardado en la variable classifications.\n",
        "\n",
        "**pregunta 5.1 (0.25 puntos)**: \n",
        "\n",
        "* ¿En que clase esta clasificado ahora la primera prenda de vestir de la variable classifications?\n",
        "\n",
        "**pregunta 5.1 (0.25 puntos)**: \n",
        "\n",
        "* ¿Porque crees que ha ocurrido esto?"
      ]
    },
    {
      "cell_type": "code",
      "metadata": {
        "id": "RdJHl3V-G4iS",
        "colab": {
          "base_uri": "https://localhost:8080/"
        },
        "outputId": "910f4e08-e5ba-4c4b-f799-2fe7dd9e8042"
      },
      "source": [
        "### Tu código del clasificador de la pregunta 5 aquí ###\n",
        "\n",
        "classifications = model_512.predict(test_images)\n",
        "print(classifications[0])\n",
        "print(np.argmax(classifications[0]))\n",
        "\n",
        "classifications = model_1024.predict(test_images)\n",
        "print(classifications[0])\n",
        "print(np.argmax(classifications[0]))\n"
      ],
      "execution_count": 36,
      "outputs": [
        {
          "output_type": "stream",
          "name": "stdout",
          "text": [
            "[8.9554391e-09 1.4146716e-09 7.7721953e-09 7.8955792e-10 1.9942927e-08 9.4262501e-03 2.0829210e-08 1.2611136e-03 3.2429643e-08 9.8931259e-01]\n",
            "9\n",
            "[1.2702189e-09 2.2472886e-10 5.5661575e-10 2.1863412e-11 5.5513460e-10 6.5829357e-05 3.3182459e-09 1.7740599e-04 3.1353153e-11 9.9975675e-01]\n",
            "9\n"
          ]
        }
      ]
    },
    {
      "cell_type": "markdown",
      "metadata": {
        "id": "P3NfwdOGZcAa"
      },
      "source": [
        "Tu respuesta a la pregunta 5.1 aquí:"
      ]
    },
    {
      "cell_type": "markdown",
      "metadata": {
        "id": "a_4rJ35ap2qX"
      },
      "source": [
        "En ambos predictores clasifica con la clase 9"
      ]
    },
    {
      "cell_type": "markdown",
      "metadata": {
        "id": "nFmfpxE1ZcJx"
      },
      "source": [
        "Tu respuesta a la pregunta 5.2 aquí:"
      ]
    },
    {
      "cell_type": "markdown",
      "metadata": {
        "id": "dwzXbG13p-Ou"
      },
      "source": [
        "Creo que predice con la misma clase ya que los valores de loss y accuracy son casi identicos en los 3 modelos con diferentes neuronas."
      ]
    },
    {
      "cell_type": "markdown",
      "metadata": {
        "id": "59eM76O1YekZ"
      },
      "source": [
        "# **Ejercicio 3: ¿por qué es tan importante la capa Flatten?**\n",
        "\n",
        "En este ejercicio vamos a ver que ocurre cuando quitamos la capa flatten, para ello, escribe la red neuronal de la pregunta 1 y no pongas la capa Flatten.\n",
        "\n",
        "**pregunta 6 (0.5 puntos):** ¿puedes explicar porque da el error que da?\n",
        "\n"
      ]
    },
    {
      "cell_type": "code",
      "metadata": {
        "id": "ecfEVKEuG4iU",
        "colab": {
          "base_uri": "https://localhost:8080/",
          "height": 350
        },
        "outputId": "52a2e281-1cd9-4ba9-862a-37478a639344"
      },
      "source": [
        "### Tu código de la red neuronal sin capa flatten de la pregunta 6 aquí ###\n",
        "# Creamos un modelo conformado por una secuencia de capas\n",
        "model = keras.models.Sequential()\n",
        "\n",
        "# Capa 1\n",
        "model.add(keras.layers.Dense(128, activation=\"sigmoid\"))\n",
        "# Capa 2: Con 10 neuronas, las 10 posibles prendas\n",
        "model.add(keras.layers.Dense(10, activation=\"softmax\"))\n",
        "model.summary()"
      ],
      "execution_count": 41,
      "outputs": [
        {
          "output_type": "error",
          "ename": "ValueError",
          "evalue": "ignored",
          "traceback": [
            "\u001b[0;31m---------------------------------------------------------------------------\u001b[0m",
            "\u001b[0;31mValueError\u001b[0m                                Traceback (most recent call last)",
            "\u001b[0;32m<ipython-input-41-421b9f0aa449>\u001b[0m in \u001b[0;36m<module>\u001b[0;34m()\u001b[0m\n\u001b[1;32m      7\u001b[0m \u001b[0;31m# Capa 2: Con 10 neuronas, las 10 posibles prendas\u001b[0m\u001b[0;34m\u001b[0m\u001b[0;34m\u001b[0m\u001b[0;34m\u001b[0m\u001b[0m\n\u001b[1;32m      8\u001b[0m \u001b[0mmodel\u001b[0m\u001b[0;34m.\u001b[0m\u001b[0madd\u001b[0m\u001b[0;34m(\u001b[0m\u001b[0mkeras\u001b[0m\u001b[0;34m.\u001b[0m\u001b[0mlayers\u001b[0m\u001b[0;34m.\u001b[0m\u001b[0mDense\u001b[0m\u001b[0;34m(\u001b[0m\u001b[0;36m10\u001b[0m\u001b[0;34m,\u001b[0m \u001b[0mactivation\u001b[0m\u001b[0;34m=\u001b[0m\u001b[0;34m\"softmax\"\u001b[0m\u001b[0;34m)\u001b[0m\u001b[0;34m)\u001b[0m\u001b[0;34m\u001b[0m\u001b[0;34m\u001b[0m\u001b[0m\n\u001b[0;32m----> 9\u001b[0;31m \u001b[0mmodel\u001b[0m\u001b[0;34m.\u001b[0m\u001b[0msummary\u001b[0m\u001b[0;34m(\u001b[0m\u001b[0;34m)\u001b[0m\u001b[0;34m\u001b[0m\u001b[0;34m\u001b[0m\u001b[0m\n\u001b[0m",
            "\u001b[0;32m/usr/local/lib/python3.7/dist-packages/keras/engine/training.py\u001b[0m in \u001b[0;36msummary\u001b[0;34m(self, line_length, positions, print_fn)\u001b[0m\n\u001b[1;32m   2519\u001b[0m     \"\"\"\n\u001b[1;32m   2520\u001b[0m     \u001b[0;32mif\u001b[0m \u001b[0;32mnot\u001b[0m \u001b[0mself\u001b[0m\u001b[0;34m.\u001b[0m\u001b[0mbuilt\u001b[0m\u001b[0;34m:\u001b[0m\u001b[0;34m\u001b[0m\u001b[0;34m\u001b[0m\u001b[0m\n\u001b[0;32m-> 2521\u001b[0;31m       raise ValueError('This model has not yet been built. '\n\u001b[0m\u001b[1;32m   2522\u001b[0m                        \u001b[0;34m'Build the model first by calling `build()` or calling '\u001b[0m\u001b[0;34m\u001b[0m\u001b[0;34m\u001b[0m\u001b[0m\n\u001b[1;32m   2523\u001b[0m                        \u001b[0;34m'`fit()` with some data, or specify '\u001b[0m\u001b[0;34m\u001b[0m\u001b[0;34m\u001b[0m\u001b[0m\n",
            "\u001b[0;31mValueError\u001b[0m: This model has not yet been built. Build the model first by calling `build()` or calling `fit()` with some data, or specify an `input_shape` argument in the first layer(s) for automatic build."
          ]
        }
      ]
    },
    {
      "cell_type": "markdown",
      "metadata": {
        "id": "-aNmrkkOZN6D"
      },
      "source": [
        "Tu respuesta a la pregunta 6 aquí:"
      ]
    },
    {
      "cell_type": "markdown",
      "metadata": {
        "id": "W4bGLVVYuFvw"
      },
      "source": [
        "Por que estamos usando redes neuronales clásicas y estas necesitan recibir los valores de forma escalar, osea pixel a pixel (1 dimensión)."
      ]
    },
    {
      "cell_type": "markdown",
      "metadata": {
        "id": "f37cIr81ZYJj"
      },
      "source": [
        "# **Ejercicio 4: Número de neuronas de la capa de salida**\n",
        "Considerad la capa final, la de salida de la red neuronal de la pregunta 1.\n",
        "\n",
        "**pregunta 7.1 (0.25 puntos)**: ¿Por qué son 10 las neuronas de la última capa?\n",
        "\n",
        "**pregunta 7.2 (0.25 puntos)**: ¿Qué pasaría si tuvieras una cantidad diferente a 10? \n",
        "\n",
        "Por ejemplo, intenta entrenar la red con 5, para ello utiliza la red neuronal de la pregunta 1 y cambia a 5 el número de neuronas en la última capa."
      ]
    },
    {
      "cell_type": "code",
      "metadata": {
        "id": "FhbZkppYZOCS",
        "colab": {
          "base_uri": "https://localhost:8080/",
          "height": 748
        },
        "outputId": "af633df0-060f-49a1-9678-c2931a908105"
      },
      "source": [
        "### Tu código de la red neuronal con 5 neuronas en la capa de salida de la pregunta 7 aquí ###\n",
        "\n",
        "# Creamos un modelo conformado por una secuencia de capas\n",
        "model = keras.models.Sequential()\n",
        "# Capa 1\n",
        "model.add(keras.layers.Flatten(input_shape=[28,28]))\n",
        "# Capa 2\n",
        "model.add(keras.layers.Dense(128, activation=\"sigmoid\"))\n",
        "# Capa 3: Con 5 neuronas, las 10 posibles prendas\n",
        "model.add(keras.layers.Dense(5, activation=\"softmax\"))\n",
        "model.summary()\n",
        "model.compile(loss=\"sparse_categorical_crossentropy\", optimizer=\"adam\", metrics=[\"accuracy\"])\n",
        "# Entrenamos el modelo\n",
        "history = model.fit(X_train, y_train, epochs=20, validation_data=(X_valid, y_valid), batch_size=64)\n"
      ],
      "execution_count": 55,
      "outputs": [
        {
          "output_type": "stream",
          "name": "stdout",
          "text": [
            "Model: \"sequential_29\"\n",
            "_________________________________________________________________\n",
            "Layer (type)                 Output Shape              Param #   \n",
            "=================================================================\n",
            "flatten_28 (Flatten)         (None, 784)               0         \n",
            "_________________________________________________________________\n",
            "dense_60 (Dense)             (None, 128)               100480    \n",
            "_________________________________________________________________\n",
            "dense_61 (Dense)             (None, 5)                 645       \n",
            "=================================================================\n",
            "Total params: 101,125\n",
            "Trainable params: 101,125\n",
            "Non-trainable params: 0\n",
            "_________________________________________________________________\n",
            "Epoch 1/20\n"
          ]
        },
        {
          "output_type": "error",
          "ename": "InvalidArgumentError",
          "evalue": "ignored",
          "traceback": [
            "\u001b[0;31m---------------------------------------------------------------------------\u001b[0m",
            "\u001b[0;31mInvalidArgumentError\u001b[0m                      Traceback (most recent call last)",
            "\u001b[0;32m<ipython-input-55-ece9779fc8e3>\u001b[0m in \u001b[0;36m<module>\u001b[0;34m()\u001b[0m\n\u001b[1;32m     12\u001b[0m \u001b[0mmodel\u001b[0m\u001b[0;34m.\u001b[0m\u001b[0mcompile\u001b[0m\u001b[0;34m(\u001b[0m\u001b[0mloss\u001b[0m\u001b[0;34m=\u001b[0m\u001b[0;34m\"sparse_categorical_crossentropy\"\u001b[0m\u001b[0;34m,\u001b[0m \u001b[0moptimizer\u001b[0m\u001b[0;34m=\u001b[0m\u001b[0;34m\"adam\"\u001b[0m\u001b[0;34m,\u001b[0m \u001b[0mmetrics\u001b[0m\u001b[0;34m=\u001b[0m\u001b[0;34m[\u001b[0m\u001b[0;34m\"accuracy\"\u001b[0m\u001b[0;34m]\u001b[0m\u001b[0;34m)\u001b[0m\u001b[0;34m\u001b[0m\u001b[0;34m\u001b[0m\u001b[0m\n\u001b[1;32m     13\u001b[0m \u001b[0;31m# Entrenamos el modelo\u001b[0m\u001b[0;34m\u001b[0m\u001b[0;34m\u001b[0m\u001b[0;34m\u001b[0m\u001b[0m\n\u001b[0;32m---> 14\u001b[0;31m \u001b[0mhistory\u001b[0m \u001b[0;34m=\u001b[0m \u001b[0mmodel\u001b[0m\u001b[0;34m.\u001b[0m\u001b[0mfit\u001b[0m\u001b[0;34m(\u001b[0m\u001b[0mX_train\u001b[0m\u001b[0;34m,\u001b[0m \u001b[0my_train\u001b[0m\u001b[0;34m,\u001b[0m \u001b[0mepochs\u001b[0m\u001b[0;34m=\u001b[0m\u001b[0;36m20\u001b[0m\u001b[0;34m,\u001b[0m \u001b[0mvalidation_data\u001b[0m\u001b[0;34m=\u001b[0m\u001b[0;34m(\u001b[0m\u001b[0mX_valid\u001b[0m\u001b[0;34m,\u001b[0m \u001b[0my_valid\u001b[0m\u001b[0;34m)\u001b[0m\u001b[0;34m,\u001b[0m \u001b[0mbatch_size\u001b[0m\u001b[0;34m=\u001b[0m\u001b[0;36m64\u001b[0m\u001b[0;34m)\u001b[0m\u001b[0;34m\u001b[0m\u001b[0;34m\u001b[0m\u001b[0m\n\u001b[0m",
            "\u001b[0;32m/usr/local/lib/python3.7/dist-packages/keras/engine/training.py\u001b[0m in \u001b[0;36mfit\u001b[0;34m(self, x, y, batch_size, epochs, verbose, callbacks, validation_split, validation_data, shuffle, class_weight, sample_weight, initial_epoch, steps_per_epoch, validation_steps, validation_batch_size, validation_freq, max_queue_size, workers, use_multiprocessing)\u001b[0m\n\u001b[1;32m   1182\u001b[0m                 _r=1):\n\u001b[1;32m   1183\u001b[0m               \u001b[0mcallbacks\u001b[0m\u001b[0;34m.\u001b[0m\u001b[0mon_train_batch_begin\u001b[0m\u001b[0;34m(\u001b[0m\u001b[0mstep\u001b[0m\u001b[0;34m)\u001b[0m\u001b[0;34m\u001b[0m\u001b[0;34m\u001b[0m\u001b[0m\n\u001b[0;32m-> 1184\u001b[0;31m               \u001b[0mtmp_logs\u001b[0m \u001b[0;34m=\u001b[0m \u001b[0mself\u001b[0m\u001b[0;34m.\u001b[0m\u001b[0mtrain_function\u001b[0m\u001b[0;34m(\u001b[0m\u001b[0miterator\u001b[0m\u001b[0;34m)\u001b[0m\u001b[0;34m\u001b[0m\u001b[0;34m\u001b[0m\u001b[0m\n\u001b[0m\u001b[1;32m   1185\u001b[0m               \u001b[0;32mif\u001b[0m \u001b[0mdata_handler\u001b[0m\u001b[0;34m.\u001b[0m\u001b[0mshould_sync\u001b[0m\u001b[0;34m:\u001b[0m\u001b[0;34m\u001b[0m\u001b[0;34m\u001b[0m\u001b[0m\n\u001b[1;32m   1186\u001b[0m                 \u001b[0mcontext\u001b[0m\u001b[0;34m.\u001b[0m\u001b[0masync_wait\u001b[0m\u001b[0;34m(\u001b[0m\u001b[0;34m)\u001b[0m\u001b[0;34m\u001b[0m\u001b[0;34m\u001b[0m\u001b[0m\n",
            "\u001b[0;32m/usr/local/lib/python3.7/dist-packages/tensorflow/python/eager/def_function.py\u001b[0m in \u001b[0;36m__call__\u001b[0;34m(self, *args, **kwds)\u001b[0m\n\u001b[1;32m    883\u001b[0m \u001b[0;34m\u001b[0m\u001b[0m\n\u001b[1;32m    884\u001b[0m       \u001b[0;32mwith\u001b[0m \u001b[0mOptionalXlaContext\u001b[0m\u001b[0;34m(\u001b[0m\u001b[0mself\u001b[0m\u001b[0;34m.\u001b[0m\u001b[0m_jit_compile\u001b[0m\u001b[0;34m)\u001b[0m\u001b[0;34m:\u001b[0m\u001b[0;34m\u001b[0m\u001b[0;34m\u001b[0m\u001b[0m\n\u001b[0;32m--> 885\u001b[0;31m         \u001b[0mresult\u001b[0m \u001b[0;34m=\u001b[0m \u001b[0mself\u001b[0m\u001b[0;34m.\u001b[0m\u001b[0m_call\u001b[0m\u001b[0;34m(\u001b[0m\u001b[0;34m*\u001b[0m\u001b[0margs\u001b[0m\u001b[0;34m,\u001b[0m \u001b[0;34m**\u001b[0m\u001b[0mkwds\u001b[0m\u001b[0;34m)\u001b[0m\u001b[0;34m\u001b[0m\u001b[0;34m\u001b[0m\u001b[0m\n\u001b[0m\u001b[1;32m    886\u001b[0m \u001b[0;34m\u001b[0m\u001b[0m\n\u001b[1;32m    887\u001b[0m       \u001b[0mnew_tracing_count\u001b[0m \u001b[0;34m=\u001b[0m \u001b[0mself\u001b[0m\u001b[0;34m.\u001b[0m\u001b[0mexperimental_get_tracing_count\u001b[0m\u001b[0;34m(\u001b[0m\u001b[0;34m)\u001b[0m\u001b[0;34m\u001b[0m\u001b[0;34m\u001b[0m\u001b[0m\n",
            "\u001b[0;32m/usr/local/lib/python3.7/dist-packages/tensorflow/python/eager/def_function.py\u001b[0m in \u001b[0;36m_call\u001b[0;34m(self, *args, **kwds)\u001b[0m\n\u001b[1;32m    948\u001b[0m         \u001b[0;31m# Lifting succeeded, so variables are initialized and we can run the\u001b[0m\u001b[0;34m\u001b[0m\u001b[0;34m\u001b[0m\u001b[0;34m\u001b[0m\u001b[0m\n\u001b[1;32m    949\u001b[0m         \u001b[0;31m# stateless function.\u001b[0m\u001b[0;34m\u001b[0m\u001b[0;34m\u001b[0m\u001b[0;34m\u001b[0m\u001b[0m\n\u001b[0;32m--> 950\u001b[0;31m         \u001b[0;32mreturn\u001b[0m \u001b[0mself\u001b[0m\u001b[0;34m.\u001b[0m\u001b[0m_stateless_fn\u001b[0m\u001b[0;34m(\u001b[0m\u001b[0;34m*\u001b[0m\u001b[0margs\u001b[0m\u001b[0;34m,\u001b[0m \u001b[0;34m**\u001b[0m\u001b[0mkwds\u001b[0m\u001b[0;34m)\u001b[0m\u001b[0;34m\u001b[0m\u001b[0;34m\u001b[0m\u001b[0m\n\u001b[0m\u001b[1;32m    951\u001b[0m     \u001b[0;32melse\u001b[0m\u001b[0;34m:\u001b[0m\u001b[0;34m\u001b[0m\u001b[0;34m\u001b[0m\u001b[0m\n\u001b[1;32m    952\u001b[0m       \u001b[0m_\u001b[0m\u001b[0;34m,\u001b[0m \u001b[0m_\u001b[0m\u001b[0;34m,\u001b[0m \u001b[0m_\u001b[0m\u001b[0;34m,\u001b[0m \u001b[0mfiltered_flat_args\u001b[0m \u001b[0;34m=\u001b[0m\u001b[0;31m \u001b[0m\u001b[0;31m\\\u001b[0m\u001b[0;34m\u001b[0m\u001b[0;34m\u001b[0m\u001b[0m\n",
            "\u001b[0;32m/usr/local/lib/python3.7/dist-packages/tensorflow/python/eager/function.py\u001b[0m in \u001b[0;36m__call__\u001b[0;34m(self, *args, **kwargs)\u001b[0m\n\u001b[1;32m   3038\u001b[0m        filtered_flat_args) = self._maybe_define_function(args, kwargs)\n\u001b[1;32m   3039\u001b[0m     return graph_function._call_flat(\n\u001b[0;32m-> 3040\u001b[0;31m         filtered_flat_args, captured_inputs=graph_function.captured_inputs)  # pylint: disable=protected-access\n\u001b[0m\u001b[1;32m   3041\u001b[0m \u001b[0;34m\u001b[0m\u001b[0m\n\u001b[1;32m   3042\u001b[0m   \u001b[0;34m@\u001b[0m\u001b[0mproperty\u001b[0m\u001b[0;34m\u001b[0m\u001b[0;34m\u001b[0m\u001b[0m\n",
            "\u001b[0;32m/usr/local/lib/python3.7/dist-packages/tensorflow/python/eager/function.py\u001b[0m in \u001b[0;36m_call_flat\u001b[0;34m(self, args, captured_inputs, cancellation_manager)\u001b[0m\n\u001b[1;32m   1962\u001b[0m       \u001b[0;31m# No tape is watching; skip to running the function.\u001b[0m\u001b[0;34m\u001b[0m\u001b[0;34m\u001b[0m\u001b[0;34m\u001b[0m\u001b[0m\n\u001b[1;32m   1963\u001b[0m       return self._build_call_outputs(self._inference_function.call(\n\u001b[0;32m-> 1964\u001b[0;31m           ctx, args, cancellation_manager=cancellation_manager))\n\u001b[0m\u001b[1;32m   1965\u001b[0m     forward_backward = self._select_forward_and_backward_functions(\n\u001b[1;32m   1966\u001b[0m         \u001b[0margs\u001b[0m\u001b[0;34m,\u001b[0m\u001b[0;34m\u001b[0m\u001b[0;34m\u001b[0m\u001b[0m\n",
            "\u001b[0;32m/usr/local/lib/python3.7/dist-packages/tensorflow/python/eager/function.py\u001b[0m in \u001b[0;36mcall\u001b[0;34m(self, ctx, args, cancellation_manager)\u001b[0m\n\u001b[1;32m    594\u001b[0m               \u001b[0minputs\u001b[0m\u001b[0;34m=\u001b[0m\u001b[0margs\u001b[0m\u001b[0;34m,\u001b[0m\u001b[0;34m\u001b[0m\u001b[0;34m\u001b[0m\u001b[0m\n\u001b[1;32m    595\u001b[0m               \u001b[0mattrs\u001b[0m\u001b[0;34m=\u001b[0m\u001b[0mattrs\u001b[0m\u001b[0;34m,\u001b[0m\u001b[0;34m\u001b[0m\u001b[0;34m\u001b[0m\u001b[0m\n\u001b[0;32m--> 596\u001b[0;31m               ctx=ctx)\n\u001b[0m\u001b[1;32m    597\u001b[0m         \u001b[0;32melse\u001b[0m\u001b[0;34m:\u001b[0m\u001b[0;34m\u001b[0m\u001b[0;34m\u001b[0m\u001b[0m\n\u001b[1;32m    598\u001b[0m           outputs = execute.execute_with_cancellation(\n",
            "\u001b[0;32m/usr/local/lib/python3.7/dist-packages/tensorflow/python/eager/execute.py\u001b[0m in \u001b[0;36mquick_execute\u001b[0;34m(op_name, num_outputs, inputs, attrs, ctx, name)\u001b[0m\n\u001b[1;32m     58\u001b[0m     \u001b[0mctx\u001b[0m\u001b[0;34m.\u001b[0m\u001b[0mensure_initialized\u001b[0m\u001b[0;34m(\u001b[0m\u001b[0;34m)\u001b[0m\u001b[0;34m\u001b[0m\u001b[0;34m\u001b[0m\u001b[0m\n\u001b[1;32m     59\u001b[0m     tensors = pywrap_tfe.TFE_Py_Execute(ctx._handle, device_name, op_name,\n\u001b[0;32m---> 60\u001b[0;31m                                         inputs, attrs, num_outputs)\n\u001b[0m\u001b[1;32m     61\u001b[0m   \u001b[0;32mexcept\u001b[0m \u001b[0mcore\u001b[0m\u001b[0;34m.\u001b[0m\u001b[0m_NotOkStatusException\u001b[0m \u001b[0;32mas\u001b[0m \u001b[0me\u001b[0m\u001b[0;34m:\u001b[0m\u001b[0;34m\u001b[0m\u001b[0;34m\u001b[0m\u001b[0m\n\u001b[1;32m     62\u001b[0m     \u001b[0;32mif\u001b[0m \u001b[0mname\u001b[0m \u001b[0;32mis\u001b[0m \u001b[0;32mnot\u001b[0m \u001b[0;32mNone\u001b[0m\u001b[0;34m:\u001b[0m\u001b[0;34m\u001b[0m\u001b[0;34m\u001b[0m\u001b[0m\n",
            "\u001b[0;31mInvalidArgumentError\u001b[0m:  Received a label value of 9 which is outside the valid range of [0, 5).  Label values: 5 7 0 7 7 1 9 8 4 5 4 0 4 4 5 0 4 7 5 7 2 3 5 4 8 4 7 3 0 2 4 5 7 4 3 8 4 0 6 2 3 2 5 3 7 4 9 1 1 5 4 7 2 5 0 6 3 5 8 1 7 6 4 4\n\t [[node sparse_categorical_crossentropy/SparseSoftmaxCrossEntropyWithLogits/SparseSoftmaxCrossEntropyWithLogits (defined at <ipython-input-55-ece9779fc8e3>:14) ]] [Op:__inference_train_function_562644]\n\nFunction call stack:\ntrain_function\n"
          ]
        }
      ]
    },
    {
      "cell_type": "markdown",
      "metadata": {
        "id": "SLsQcq-6aUoD"
      },
      "source": [
        "Tu respuestas a la pregunta 7.1 aquí:"
      ]
    },
    {
      "cell_type": "markdown",
      "metadata": {
        "id": "ySogXCZcwdW5"
      },
      "source": [
        "Cada nodo contiene una calificacion que indica la probabilidad que la actual imagen pertenece a una de las 10 clases."
      ]
    },
    {
      "cell_type": "markdown",
      "metadata": {
        "id": "J1f_7ZFeaUu6"
      },
      "source": [
        "Tu respuestas a la pregunta 7.2 aquí:"
      ]
    },
    {
      "cell_type": "markdown",
      "metadata": {
        "id": "awswqA4SxnnM"
      },
      "source": [
        "Al entrenar el modelo nos lanza un error indicando que:\n",
        "\n",
        "Recibió un valor de etiqueta de 9 que está fuera del rango válido de [0, 5).\n",
        "\n",
        "Con lo cual no podemos predecir con 5 neuronas de salida."
      ]
    },
    {
      "cell_type": "markdown",
      "metadata": {
        "id": "HNIBCkshaf2y"
      },
      "source": [
        "# Ejercicio 5: Aumento de epoch y su efecto en la red neuronal\n",
        "En este ejercicio vamos a ver el impacto de aumentar los epoch en el entrenamiento. Usando la red neuronal de la pregunta 1:\n",
        "\n",
        "**pregunta 8.1 (0.20 puntos)**\n",
        "* Intentad 15 epoch para su entrenamiento, probablemente obtendras un modelo con una pérdida mucho mejor que el que tiene 5.\n",
        "\n",
        "**pregunta 8.2 (0.20 puntos)**\n",
        "* Intenta ahora con 30 epoch para su entrenamiento, podrás ver que el valor de la pérdida deja de disminuir, y a veces aumenta.\n",
        "\n",
        "**pregunta 8.3 (0.60 puntos)**\n",
        "* ¿Porque que piensas que ocurre esto? Explica tu respuesta y da el nombre de este efecto si lo conoces."
      ]
    },
    {
      "cell_type": "code",
      "metadata": {
        "id": "Cb5vk_imG4iZ",
        "colab": {
          "base_uri": "https://localhost:8080/"
        },
        "outputId": "98b0d519-44c2-4e6c-8be1-70d3e67b760f"
      },
      "source": [
        "### Tu código para 15 epoch aquí ###\n",
        "\n",
        "# Creamos un modelo conformado por una secuencia de capas\n",
        "model = keras.models.Sequential()\n",
        "# Capa 1\n",
        "model.add(keras.layers.Flatten(input_shape=[28,28]))\n",
        "# Capa 2\n",
        "model.add(keras.layers.Dense(128, activation=\"sigmoid\"))\n",
        "# Capa 3: Con 10 neuronas, las 10 posibles prendas\n",
        "model.add(keras.layers.Dense(10, activation=\"softmax\"))\n",
        "model.summary()\n",
        "model.compile(loss=\"sparse_categorical_crossentropy\", optimizer=\"adam\", metrics=[\"accuracy\"])\n",
        "# Entrenamos el modelo\n",
        "history = model.fit(X_train, y_train, epochs=15, validation_data=(X_valid, y_valid), batch_size=64)"
      ],
      "execution_count": 50,
      "outputs": [
        {
          "output_type": "stream",
          "name": "stdout",
          "text": [
            "Model: \"sequential_24\"\n",
            "_________________________________________________________________\n",
            "Layer (type)                 Output Shape              Param #   \n",
            "=================================================================\n",
            "flatten_23 (Flatten)         (None, 784)               0         \n",
            "_________________________________________________________________\n",
            "dense_50 (Dense)             (None, 128)               100480    \n",
            "_________________________________________________________________\n",
            "dense_51 (Dense)             (None, 10)                1290      \n",
            "=================================================================\n",
            "Total params: 101,770\n",
            "Trainable params: 101,770\n",
            "Non-trainable params: 0\n",
            "_________________________________________________________________\n",
            "Epoch 1/15\n",
            "860/860 [==============================] - 3s 3ms/step - loss: 0.6158 - accuracy: 0.7941 - val_loss: 0.4397 - val_accuracy: 0.8486\n",
            "Epoch 2/15\n",
            "860/860 [==============================] - 3s 3ms/step - loss: 0.4201 - accuracy: 0.8499 - val_loss: 0.3997 - val_accuracy: 0.8558\n",
            "Epoch 3/15\n",
            "860/860 [==============================] - 3s 3ms/step - loss: 0.3801 - accuracy: 0.8639 - val_loss: 0.3700 - val_accuracy: 0.8698\n",
            "Epoch 4/15\n",
            "860/860 [==============================] - 3s 3ms/step - loss: 0.3552 - accuracy: 0.8721 - val_loss: 0.3461 - val_accuracy: 0.8722\n",
            "Epoch 5/15\n",
            "860/860 [==============================] - 3s 3ms/step - loss: 0.3367 - accuracy: 0.8780 - val_loss: 0.3475 - val_accuracy: 0.8732\n",
            "Epoch 6/15\n",
            "860/860 [==============================] - 3s 3ms/step - loss: 0.3212 - accuracy: 0.8843 - val_loss: 0.3460 - val_accuracy: 0.8744\n",
            "Epoch 7/15\n",
            "860/860 [==============================] - 3s 3ms/step - loss: 0.3083 - accuracy: 0.8880 - val_loss: 0.3405 - val_accuracy: 0.8770\n",
            "Epoch 8/15\n",
            "860/860 [==============================] - 3s 3ms/step - loss: 0.2965 - accuracy: 0.8919 - val_loss: 0.3179 - val_accuracy: 0.8852\n",
            "Epoch 9/15\n",
            "860/860 [==============================] - 3s 3ms/step - loss: 0.2866 - accuracy: 0.8952 - val_loss: 0.3230 - val_accuracy: 0.8820\n",
            "Epoch 10/15\n",
            "860/860 [==============================] - 3s 3ms/step - loss: 0.2768 - accuracy: 0.8991 - val_loss: 0.3193 - val_accuracy: 0.8820\n",
            "Epoch 11/15\n",
            "860/860 [==============================] - 3s 3ms/step - loss: 0.2707 - accuracy: 0.9005 - val_loss: 0.3055 - val_accuracy: 0.8876\n",
            "Epoch 12/15\n",
            "860/860 [==============================] - 3s 3ms/step - loss: 0.2612 - accuracy: 0.9044 - val_loss: 0.3057 - val_accuracy: 0.8916\n",
            "Epoch 13/15\n",
            "860/860 [==============================] - 3s 3ms/step - loss: 0.2535 - accuracy: 0.9078 - val_loss: 0.3182 - val_accuracy: 0.8848\n",
            "Epoch 14/15\n",
            "860/860 [==============================] - 3s 3ms/step - loss: 0.2464 - accuracy: 0.9096 - val_loss: 0.2959 - val_accuracy: 0.8918\n",
            "Epoch 15/15\n",
            "860/860 [==============================] - 3s 3ms/step - loss: 0.2395 - accuracy: 0.9122 - val_loss: 0.2989 - val_accuracy: 0.8896\n"
          ]
        }
      ]
    },
    {
      "cell_type": "code",
      "metadata": {
        "id": "I9jQ26Gda5cv",
        "colab": {
          "base_uri": "https://localhost:8080/"
        },
        "outputId": "b139dfdd-435a-4c1a-f694-0725e6e29d24"
      },
      "source": [
        "### Tu código para 30 epoch aquí ###\n",
        "\n",
        "# Creamos un modelo conformado por una secuencia de capas\n",
        "model = keras.models.Sequential()\n",
        "# Capa 1\n",
        "model.add(keras.layers.Flatten(input_shape=[28,28]))\n",
        "# Capa 2\n",
        "model.add(keras.layers.Dense(128, activation=\"sigmoid\"))\n",
        "# Capa 3: Con 10 neuronas, las 10 posibles prendas\n",
        "model.add(keras.layers.Dense(10, activation=\"softmax\"))\n",
        "model.summary()\n",
        "model.compile(loss=\"sparse_categorical_crossentropy\", optimizer=\"adam\", metrics=[\"accuracy\"])\n",
        "# Entrenamos el modelo\n",
        "history = model.fit(X_train, y_train, epochs=30, validation_data=(X_valid, y_valid), batch_size=64)"
      ],
      "execution_count": 56,
      "outputs": [
        {
          "output_type": "stream",
          "name": "stdout",
          "text": [
            "Model: \"sequential_30\"\n",
            "_________________________________________________________________\n",
            "Layer (type)                 Output Shape              Param #   \n",
            "=================================================================\n",
            "flatten_29 (Flatten)         (None, 784)               0         \n",
            "_________________________________________________________________\n",
            "dense_62 (Dense)             (None, 128)               100480    \n",
            "_________________________________________________________________\n",
            "dense_63 (Dense)             (None, 10)                1290      \n",
            "=================================================================\n",
            "Total params: 101,770\n",
            "Trainable params: 101,770\n",
            "Non-trainable params: 0\n",
            "_________________________________________________________________\n",
            "Epoch 1/30\n"
          ]
        },
        {
          "output_type": "stream",
          "name": "stderr",
          "text": [
            "Exception ignored in: <function IteratorResourceDeleter.__del__ at 0x7f3d1bd72440>\n",
            "Traceback (most recent call last):\n",
            "  File \"/usr/local/lib/python3.7/dist-packages/tensorflow/python/data/ops/iterator_ops.py\", line 546, in __del__\n",
            "    handle=self._handle, deleter=self._deleter)\n",
            "  File \"/usr/local/lib/python3.7/dist-packages/tensorflow/python/ops/gen_dataset_ops.py\", line 1264, in delete_iterator\n",
            "    _ctx, \"DeleteIterator\", name, handle, deleter)\n",
            "KeyboardInterrupt: \n"
          ]
        },
        {
          "output_type": "stream",
          "name": "stdout",
          "text": [
            "860/860 [==============================] - 113s 3ms/step - loss: 0.6089 - accuracy: 0.7977 - val_loss: 0.4396 - val_accuracy: 0.8462\n",
            "Epoch 2/30\n",
            "860/860 [==============================] - 3s 3ms/step - loss: 0.4191 - accuracy: 0.8507 - val_loss: 0.3877 - val_accuracy: 0.8632\n",
            "Epoch 3/30\n",
            "860/860 [==============================] - 3s 3ms/step - loss: 0.3799 - accuracy: 0.8623 - val_loss: 0.3650 - val_accuracy: 0.8690\n",
            "Epoch 4/30\n",
            "860/860 [==============================] - 3s 3ms/step - loss: 0.3545 - accuracy: 0.8724 - val_loss: 0.3508 - val_accuracy: 0.8722\n",
            "Epoch 5/30\n",
            "860/860 [==============================] - 3s 3ms/step - loss: 0.3360 - accuracy: 0.8787 - val_loss: 0.3396 - val_accuracy: 0.8744\n",
            "Epoch 6/30\n",
            "860/860 [==============================] - 3s 3ms/step - loss: 0.3195 - accuracy: 0.8844 - val_loss: 0.3309 - val_accuracy: 0.8778\n",
            "Epoch 7/30\n",
            "860/860 [==============================] - 3s 3ms/step - loss: 0.3069 - accuracy: 0.8886 - val_loss: 0.3322 - val_accuracy: 0.8774\n",
            "Epoch 8/30\n",
            "860/860 [==============================] - 3s 3ms/step - loss: 0.2954 - accuracy: 0.8927 - val_loss: 0.3188 - val_accuracy: 0.8838\n",
            "Epoch 9/30\n",
            "860/860 [==============================] - 3s 3ms/step - loss: 0.2847 - accuracy: 0.8965 - val_loss: 0.3209 - val_accuracy: 0.8854\n",
            "Epoch 10/30\n",
            "860/860 [==============================] - 3s 3ms/step - loss: 0.2759 - accuracy: 0.8993 - val_loss: 0.3247 - val_accuracy: 0.8830\n",
            "Epoch 11/30\n",
            "860/860 [==============================] - 3s 3ms/step - loss: 0.2668 - accuracy: 0.9018 - val_loss: 0.3151 - val_accuracy: 0.8872\n",
            "Epoch 12/30\n",
            "860/860 [==============================] - 3s 3ms/step - loss: 0.2591 - accuracy: 0.9061 - val_loss: 0.3035 - val_accuracy: 0.8908\n",
            "Epoch 13/30\n",
            "860/860 [==============================] - 3s 3ms/step - loss: 0.2510 - accuracy: 0.9093 - val_loss: 0.3055 - val_accuracy: 0.8894\n",
            "Epoch 14/30\n",
            "860/860 [==============================] - 3s 3ms/step - loss: 0.2446 - accuracy: 0.9109 - val_loss: 0.3016 - val_accuracy: 0.8872\n",
            "Epoch 15/30\n",
            "860/860 [==============================] - 3s 3ms/step - loss: 0.2377 - accuracy: 0.9133 - val_loss: 0.2937 - val_accuracy: 0.8930\n",
            "Epoch 16/30\n",
            "860/860 [==============================] - 3s 3ms/step - loss: 0.2310 - accuracy: 0.9152 - val_loss: 0.2981 - val_accuracy: 0.8938\n",
            "Epoch 17/30\n",
            "860/860 [==============================] - 3s 3ms/step - loss: 0.2268 - accuracy: 0.9171 - val_loss: 0.2904 - val_accuracy: 0.8926\n",
            "Epoch 18/30\n",
            "860/860 [==============================] - 3s 3ms/step - loss: 0.2213 - accuracy: 0.9201 - val_loss: 0.2932 - val_accuracy: 0.8940\n",
            "Epoch 19/30\n",
            "860/860 [==============================] - 3s 3ms/step - loss: 0.2147 - accuracy: 0.9221 - val_loss: 0.2937 - val_accuracy: 0.8950\n",
            "Epoch 20/30\n",
            "860/860 [==============================] - 3s 3ms/step - loss: 0.2095 - accuracy: 0.9233 - val_loss: 0.2914 - val_accuracy: 0.8962\n",
            "Epoch 21/30\n",
            "860/860 [==============================] - 3s 3ms/step - loss: 0.2038 - accuracy: 0.9263 - val_loss: 0.2886 - val_accuracy: 0.8956\n",
            "Epoch 22/30\n",
            "860/860 [==============================] - 3s 3ms/step - loss: 0.1999 - accuracy: 0.9280 - val_loss: 0.2934 - val_accuracy: 0.8922\n",
            "Epoch 23/30\n",
            "860/860 [==============================] - 3s 3ms/step - loss: 0.1963 - accuracy: 0.9284 - val_loss: 0.2869 - val_accuracy: 0.8940\n",
            "Epoch 24/30\n",
            "860/860 [==============================] - 3s 3ms/step - loss: 0.1894 - accuracy: 0.9323 - val_loss: 0.2915 - val_accuracy: 0.8926\n",
            "Epoch 25/30\n",
            "860/860 [==============================] - 3s 3ms/step - loss: 0.1868 - accuracy: 0.9331 - val_loss: 0.2939 - val_accuracy: 0.8992\n",
            "Epoch 26/30\n",
            "860/860 [==============================] - 3s 3ms/step - loss: 0.1817 - accuracy: 0.9345 - val_loss: 0.2925 - val_accuracy: 0.8970\n",
            "Epoch 27/30\n",
            "860/860 [==============================] - 3s 3ms/step - loss: 0.1775 - accuracy: 0.9359 - val_loss: 0.2899 - val_accuracy: 0.8978\n",
            "Epoch 28/30\n",
            "860/860 [==============================] - 3s 3ms/step - loss: 0.1726 - accuracy: 0.9373 - val_loss: 0.3001 - val_accuracy: 0.8954\n",
            "Epoch 29/30\n",
            "860/860 [==============================] - 3s 3ms/step - loss: 0.1693 - accuracy: 0.9394 - val_loss: 0.2947 - val_accuracy: 0.8928\n",
            "Epoch 30/30\n",
            "860/860 [==============================] - 3s 3ms/step - loss: 0.1667 - accuracy: 0.9401 - val_loss: 0.3028 - val_accuracy: 0.8964\n"
          ]
        }
      ]
    },
    {
      "cell_type": "markdown",
      "metadata": {
        "id": "Fs0fjzH4bmSR"
      },
      "source": [
        "Tu respuesta a la pregunta 8.3 aquí:"
      ]
    },
    {
      "cell_type": "markdown",
      "metadata": {
        "id": "ZCMnOkx03hWM"
      },
      "source": [
        "En ciertos pasos el algoritmo se aleja de la función verdadera, aumentando de manera previsible el error de predicción sobre los datos de validación"
      ]
    },
    {
      "cell_type": "markdown",
      "metadata": {
        "id": "HlIgNG4Yb_N6"
      },
      "source": [
        "# Ejercicio 6: Early stop\n",
        "En el ejercicio anterior, cuando entrenabas con epoch extras, tenías un problema en el que tu pérdida podía cambiar. Puede que te haya llevado un poco de tiempo esperar a que el entrenamiento lo hiciera,  y puede que hayas pensado \"¿no estaría bien si pudiera parar el entrenamiento cuando alcance un valor deseado?\", es decir, una precisión del 85% podría ser suficiente para ti, y si alcanzas eso después de 3 epoch, ¿por qué sentarte a esperar a que termine muchas más épocas? Como cualquier otro programa existen formas de parar la ejecución\n",
        "\n",
        "A partir del ejemplo de código que\n",
        "\n",
        " se da, hacer una nueva función que tenga en cuenta la perdida (loss) y que pueda parar el código para\n",
        "evitar que ocurra el efeto secundario que vimos en el ejercicio 5."
      ]
    },
    {
      "cell_type": "code",
      "metadata": {
        "id": "b5UwceFUG4ic"
      },
      "source": [
        "### Ejemplo de código\n",
        "\n",
        "class myCallback(tf.keras.callbacks.Callback):\n",
        "      def on_epoch_end(self, epoch, logs={}):\n",
        "        if(logs.get('accuracy')> 0.85):\n",
        "              print(\"\\nAlcanzado el 85% de precisión, se cancela el entrenamiento!!\")\n",
        "              self.model.stop_training = True"
      ],
      "execution_count": 57,
      "outputs": []
    },
    {
      "cell_type": "markdown",
      "metadata": {
        "id": "0Bjd8wGKccrn"
      },
      "source": [
        "**Pregunta 9 (2 puntos)**: Completa el siguiente código con una clase callback que una vez alcanzado el 40% de perdida detenga el entrenamiento."
      ]
    },
    {
      "cell_type": "code",
      "metadata": {
        "id": "29LSfdOvc270",
        "colab": {
          "base_uri": "https://localhost:8080/"
        },
        "outputId": "cc1a0dc6-1597-4426-9c8c-82eaaabd9efd"
      },
      "source": [
        "import tensorflow as tf\n",
        "print(tf.__version__)\n",
        "\n",
        "### Tu código de la función callback para parar el entrenamiento de la red neuronal al 40% de loss aqui: ###\n",
        "\n",
        "class myCallback(tf.keras.callbacks.Callback):\n",
        "      def on_epoch_end(self, epoch, logs={}):\n",
        "        if(logs.get('loss')> 0.40):\n",
        "              print(\"\\nAlcanzado el 40% de loss, se cancela el entrenamiento!!\")\n",
        "              self.model.stop_training = True\n",
        "\n",
        "callbacks = myCallback()\n",
        "mnist = tf.keras.datasets.fashion_mnist\n",
        "(training_images, training_labels) ,  (test_images, test_labels) = mnist.load_data()\n",
        "\n",
        "training_images = training_images/255.0\n",
        "test_images = test_images/255.0\n",
        "\n",
        "model = tf.keras.models.Sequential([tf.keras.layers.Flatten(),\n",
        "                                    tf.keras.layers.Dense(512, activation=tf.nn.relu),\n",
        "                                    tf.keras.layers.Dense(10, activation=tf.nn.softmax)])\n",
        "\n",
        "model.compile(optimizer = 'adam',\n",
        "              loss = 'sparse_categorical_crossentropy',\n",
        "              metrics=['accuracy']) \n",
        "\n",
        "model.fit(training_images, training_labels, epochs=50, callbacks=[callbacks])"
      ],
      "execution_count": 59,
      "outputs": [
        {
          "output_type": "stream",
          "name": "stdout",
          "text": [
            "2.6.0\n",
            "Epoch 1/50\n",
            "1875/1875 [==============================] - 9s 5ms/step - loss: 0.4742 - accuracy: 0.8301\n",
            "\n",
            "Alcanzado el 40% de loss, se cancela el entrenamiento!!\n"
          ]
        },
        {
          "output_type": "execute_result",
          "data": {
            "text/plain": [
              "<keras.callbacks.History at 0x7f3cf25b1c10>"
            ]
          },
          "metadata": {},
          "execution_count": 59
        }
      ]
    },
    {
      "cell_type": "code",
      "metadata": {
        "id": "M0sIOPha4P2i"
      },
      "source": [
        ""
      ],
      "execution_count": null,
      "outputs": []
    }
  ]
}